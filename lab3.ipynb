{
 "cells": [
  {
   "cell_type": "markdown",
   "metadata": {},
   "source": [
    "## Лабораторная работа № 3"
   ]
  },
  {
   "cell_type": "markdown",
   "metadata": {},
   "source": [
    "Импортируем необходимые библиотеки."
   ]
  },
  {
   "cell_type": "code",
   "execution_count": 1,
   "metadata": {},
   "outputs": [
    {
     "name": "stderr",
     "output_type": "stream",
     "text": [
      "Using TensorFlow backend.\n"
     ]
    }
   ],
   "source": [
    "from __future__ import print_function\n",
    "import tensorflow as tf\n",
    "import keras\n",
    "from keras.callbacks import ModelCheckpoint\n",
    "import keras.backend as K\n",
    "from keras.models import Sequential, Model\n",
    "from keras.layers import Dense, Dropout, Activation\n",
    "from keras.layers import LSTM, Flatten\n",
    "from keras.layers import SimpleRNN, Reshape\n",
    "from keras.layers import GRU, Embedding\n",
    "from keras.utils.data_utils import get_file\n",
    "import numpy as np\n",
    "import random\n",
    "import sys\n",
    "import io\n",
    "import os\n",
    "import string"
   ]
  },
  {
   "cell_type": "markdown",
   "metadata": {},
   "source": [
    "Скачаем текст с http://lib.ru. Сохраним в директорию на ПК."
   ]
  },
  {
   "cell_type": "code",
   "execution_count": 2,
   "metadata": {},
   "outputs": [],
   "source": [
    "path = 'C:/Users/hui/Desktop/mprinc.txt'"
   ]
  },
  {
   "cell_type": "markdown",
   "metadata": {},
   "source": [
    "Считываем текст для дальнейшей работы с ним."
   ]
  },
  {
   "cell_type": "code",
   "execution_count": 3,
   "metadata": {},
   "outputs": [
    {
     "name": "stdout",
     "output_type": "stream",
     "text": [
      "Length of text: 77626 characters\n"
     ]
    }
   ],
   "source": [
    "with open(path, 'r') as f:\n",
    "    text = f.read().lower()\n",
    "# length of text is the number of characters in it\n",
    "print ('Length of text: {} characters'.format(len(text)))"
   ]
  },
  {
   "cell_type": "markdown",
   "metadata": {},
   "source": [
    "Посмотрим на первые 250 символов текста в качестве дополнительной проверки и визуализации, что все считано верно."
   ]
  },
  {
   "cell_type": "code",
   "execution_count": 4,
   "metadata": {},
   "outputs": [
    {
     "name": "stdout",
     "output_type": "stream",
     "text": [
      " \u0014антуан де сент-экзюпери. маленький принц\u0015\n",
      "\n",
      " леону верту\n",
      "\n",
      " прошу детей простить меня за то, что я посвятил эту книжку взрослому. скажу в оправдание: этот взрослый - мой самый лучший друг. и еще: он понимает все на свете, даже детские книжки. и, нако\n"
     ]
    }
   ],
   "source": [
    "print(text[:250])"
   ]
  },
  {
   "cell_type": "markdown",
   "metadata": {},
   "source": [
    "Создадим словарь уникальных символов."
   ]
  },
  {
   "cell_type": "markdown",
   "metadata": {},
   "source": [
    "Получаем набор всех символов в тексте и составляем 2 словаря:\n",
    "char_indices содержит символы и соответствующий им индекс\n",
    "indices_char позволит по индексу получить символ"
   ]
  },
  {
   "cell_type": "code",
   "execution_count": 5,
   "metadata": {},
   "outputs": [
    {
     "name": "stdout",
     "output_type": "stream",
     "text": [
      "total chars: ['\\n', '\\x14', '\\x15', ' ', '!', '\"', '(', ')', ',', '-', '.', '0', '1', '2', '3', '5', '6', '7', '8', '9', ':', ';', '?', 'i', 'n', 'v', 'x', 'а', 'б', 'в', 'г', 'д', 'е', 'ж', 'з', 'и', 'й', 'к', 'л', 'м', 'н', 'о', 'п', 'р', 'с', 'т', 'у', 'ф', 'х', 'ц', 'ч', 'ш', 'щ', 'ъ', 'ы', 'ь', 'э', 'ю', 'я']\n",
      "total chars: 59\n"
     ]
    }
   ],
   "source": [
    "chars = sorted(list(set(text)))\n",
    "print('total chars:', chars)\n",
    "print('total chars:', len(chars))\n",
    "char_indices = dict((c, i) for i, c in enumerate(chars))\n",
    "indices_char = dict((i, c) for i, c in enumerate(chars))"
   ]
  },
  {
   "cell_type": "markdown",
   "metadata": {},
   "source": [
    "Вспомогательная функция, выдающая случайный индекс символа из наиболее вероятных.\n",
    "temperature отвечает за вариативность выдаваемых индексов: более низкое значение будет выдавать более вероятный символ с меньшей вариативностью, и наоборот.\n",
    "На вход функции подаются вероятности, предсказанные сетью, на выходе выдается индекс символа."
   ]
  },
  {
   "cell_type": "code",
   "execution_count": 6,
   "metadata": {},
   "outputs": [],
   "source": [
    "def sample(preds, temperature = 1.0):\n",
    "    preds = np.asarray(preds).astype('float64')\n",
    "    preds = np.log(preds) / temperature\n",
    "    exp_preds = np.exp(preds)\n",
    "    preds = exp_preds / np.sum(exp_preds)\n",
    "    probas = np.random.multinomial(1, preds, 1)\n",
    "    return np.argmax(probas)"
   ]
  },
  {
   "cell_type": "markdown",
   "metadata": {},
   "source": [
    "Разрезаем текст на куски по maxlen символов с шагом step."
   ]
  },
  {
   "cell_type": "code",
   "execution_count": 7,
   "metadata": {},
   "outputs": [
    {
     "name": "stdout",
     "output_type": "stream",
     "text": [
      "nb sequences: 25862\n"
     ]
    }
   ],
   "source": [
    "maxlen = 40\n",
    "step = 3\n",
    "sentences = []\n",
    "next_chars = []\n",
    "for i in range(0, len(text) - maxlen, step):\n",
    "    sentences.append(text[i: i + maxlen])\n",
    "    next_chars.append(text[i + maxlen])\n",
    "print('nb sequences:', len(sentences))"
   ]
  },
  {
   "cell_type": "markdown",
   "metadata": {},
   "source": [
    "Преобразуем полученные последовательности символов в последовательности векторов, в которых каждому символу будет соотвествовать вектор [x1, x2, ..., xK, ... xN], где xK = 1, если K равно индексу данного символа, N = количество в нашем наборе chars, а все остальные значения равны нулю."
   ]
  },
  {
   "cell_type": "code",
   "execution_count": 8,
   "metadata": {
    "scrolled": true
   },
   "outputs": [],
   "source": [
    "x = np.zeros((len(sentences), maxlen, len(chars)), dtype=np.bool)\n",
    "y = np.zeros((len(sentences), len(chars)), dtype=np.bool)\n",
    "for i, sentence in enumerate(sentences):\n",
    "    for t, char in enumerate(sentence):\n",
    "        x[i, t, char_indices[char]] = 1\n",
    "    y[i, char_indices[next_chars[i]]] = 1"
   ]
  },
  {
   "cell_type": "markdown",
   "metadata": {},
   "source": [
    "Задаем гиперпараметры:\n",
    "* `batch_size`: размер мини-батча, чем он меньше, тем менее усредненной будет ошибка, соответственно, будет выше точность и меньше вероятность скатиться в локальный минимум;\n",
    "* `gen_length`: длина генерируемого текста в символах;\n",
    "* `options`: массив опций для обучения; в нем хранятся наборы параметров для определенной архитектуры;\n",
    "* `size`: количество узлов в слое;\n",
    "* `epochs`: количество эпох (итераций) обучения;\n",
    "* `type_of_network`: используемая нейросетевая архитектура;\n"
   ]
  },
  {
   "cell_type": "code",
   "execution_count": 9,
   "metadata": {},
   "outputs": [],
   "source": [
    "batch_size = 256\n",
    "\n",
    "# Длина словаря символов\n",
    "vocab_size = len(chars)\n",
    "\n",
    "gen_length = 1500\n",
    "\n",
    "options = [\n",
    "\n",
    "    {\n",
    "        'size': 128,\n",
    "        'epochs': 120,\n",
    "        'type_of_network': '1RNN'\n",
    "    },\n",
    "    \n",
    "    {\n",
    "        'size': 128,\n",
    "        'epochs': 120,\n",
    "        'type_of_network': '1LSTM'\n",
    "    },\n",
    "    \n",
    "    {\n",
    "        'size': 256,\n",
    "        'epochs': 30,\n",
    "        'type_of_network': '2LSTM'\n",
    "    }, \n",
    "    \n",
    "    {\n",
    "        'size': 256,\n",
    "        'epochs': 25,\n",
    "        'type_of_network': '1GRU'\n",
    "    }\n",
    "]"
   ]
  },
  {
   "cell_type": "markdown",
   "metadata": {},
   "source": [
    "## Обучение\n",
    "Для каждого набора параметров строим модель, обучаем ее за `epochs` итераций.\n",
    "Первой моделью будет обычная полносвязная RNN нейросеть."
   ]
  },
  {
   "cell_type": "markdown",
   "metadata": {},
   "source": [
    "Обнуляем сессию."
   ]
  },
  {
   "cell_type": "code",
   "execution_count": 10,
   "metadata": {},
   "outputs": [],
   "source": [
    "K.clear_session()\n",
    "option = options[0]"
   ]
  },
  {
   "cell_type": "markdown",
   "metadata": {},
   "source": [
    "Функция для построения необходимой модели в зависимости от нужного типа.\n",
    "\n",
    "- Архитектура сети RNN в виде последовательности слоёв. Определяем один скрытый слой LSTM с option['size'] = 256 единицами памяти. Для регуляции сети будем использовать слой Dropout с вероятностью 20, как правило, это делает узлы более устойчивыми к входам. Выходной уровень - это полносвязный (Dense) уровень, использующий функцию активации softmax для вывода прогнозирования вероятности для каждого из 51 символов в диапазоне от 0 до 1.\n",
    "\n",
    "- Архитектуру однослойной LSTM в виде последовательности слоёв. Определяем один скрытый слой LSTM с option['size'] = 128 единицами памяти. Для регуляции сети будем использовать слой Dropout с вероятностью 20, как правило, это делает узлы более устойчивыми к входам. Выходной уровень - это полносвязный (Dense) уровень, использующий функцию активации softmax для вывода прогнозирования вероятности для каждого из 51 символов в диапазоне от 0 до 1.\n",
    "\n",
    "- Архитектуру двухслойной LSTM сети в виде последовательности слоёв. Определим количество узлов для слоя LSTM, равное 256, и добавим еще второй слой LSTM. Теперь мы имеем уже два слоя LSTM, регулязацию которых выполняем при помощи техники dropout. Добавляем полносвязный слой с функцией активации - непрерывная функция softmax с 51 выходами, равное количеству уникальных символов в нашем тексте.\n",
    "\n",
    "- Архитектура ондослойной GRU сети: количество узлов равно 256 для слоя GRU. Добавим слой Flatten для изменения формы тензора. Во избежание переобучения добавим Dropout. Затем добавляем полносвязный слой с функцией активации - непрерывная функция softmax с 51 выходами, равное количеству уникальных символов в нашем тексте."
   ]
  },
  {
   "cell_type": "code",
   "execution_count": 11,
   "metadata": {},
   "outputs": [],
   "source": [
    "def building_model(vocab_size, batch_size, maxlen):\n",
    "    model = Sequential()\n",
    "    if option['type_of_network'] == '1RNN':\n",
    "        model.add(SimpleRNN(option['size'], input_shape = (maxlen, vocab_size)))\n",
    "        model.add(Dense(vocab_size)) \n",
    "        model.add(Activation('softmax'))\n",
    "    elif option['type_of_network'] == '1LSTM':\n",
    "        model.add(LSTM(option['size'], input_shape = (maxlen, vocab_size)))\n",
    "        model.add(Dropout(0.2))\n",
    "        model.add(Dense(vocab_size))\n",
    "        model.add(Activation('softmax'))\n",
    "    elif option['type_of_network'] == '2LSTM':\n",
    "        model.add(LSTM(option['size'], input_shape = (maxlen, vocab_size), return_sequences = True))\n",
    "        model.add(Dropout(0.2))\n",
    "        model.add(LSTM(option['size']))\n",
    "        model.add(Dropout(0.2))\n",
    "        model.add(Dense(vocab_size))\n",
    "        model.add(Activation('softmax'))\n",
    "    else:\n",
    "        model4.add(GRU(option['size'], input_shape = (maxlen, vocab_size), return_sequences = True))\n",
    "        model4.add(Flatten())\n",
    "        model4.add(Dense(vocab_size)) \n",
    "        model4.add(Activation('softmax')) \n",
    "    return model\n"
   ]
  },
  {
   "cell_type": "markdown",
   "metadata": {},
   "source": [
    "Строим первую модель (обычная полносвязная RNN)."
   ]
  },
  {
   "cell_type": "code",
   "execution_count": 12,
   "metadata": {},
   "outputs": [
    {
     "name": "stdout",
     "output_type": "stream",
     "text": [
      "Model: \"sequential_1\"\n",
      "_________________________________________________________________\n",
      "Layer (type)                 Output Shape              Param #   \n",
      "=================================================================\n",
      "simple_rnn_1 (SimpleRNN)     (None, 128)               24064     \n",
      "_________________________________________________________________\n",
      "dense_1 (Dense)              (None, 59)                7611      \n",
      "_________________________________________________________________\n",
      "activation_1 (Activation)    (None, 59)                0         \n",
      "=================================================================\n",
      "Total params: 31,675\n",
      "Trainable params: 31,675\n",
      "Non-trainable params: 0\n",
      "_________________________________________________________________\n"
     ]
    }
   ],
   "source": [
    "model1 = building_model(vocab_size = vocab_size, batch_size = batch_size, maxlen = maxlen)\n",
    "model1.summary()"
   ]
  },
  {
   "cell_type": "markdown",
   "metadata": {},
   "source": [
    "Настроим модель с потерями и метриками с помощью model.compile(). В качестве функции оптимизации используем Adam.\n",
    "Дальше определяем функцию потери (то есть измеряем, насколько мы ошиблись) с помощью categorical crossentropy."
   ]
  },
  {
   "cell_type": "code",
   "execution_count": 13,
   "metadata": {},
   "outputs": [],
   "source": [
    "model1.compile(loss = 'categorical_crossentropy', optimizer = 'adam')"
   ]
  },
  {
   "cell_type": "markdown",
   "metadata": {},
   "source": [
    "Во время обучения нейросети будем записывать полученные лучшие веса в директорию checkpoint_dir. Самые лучшие веса позже понадобятся для генерации текста по уже обученной нейросети."
   ]
  },
  {
   "cell_type": "code",
   "execution_count": 26,
   "metadata": {},
   "outputs": [],
   "source": [
    "checkpoint_dir = 'C:/Users/hui/Desktop/AI/training_checkpoints_2/'\n",
    "filepath = \"C:/Users/hui/Desktop/AI/training_checkpoints_2/best-weights-on-{epoch:02d}-with-{loss:.4f}.hdf5\""
   ]
  },
  {
   "cell_type": "markdown",
   "metadata": {},
   "source": [
    "Вызов ModelCheckpoint - это колбек (callback) (функция обратного вызова), которая выполняет сохранение контрольных точек в течение и в конце тренировки. Таким способом можно использовать тренированную модель без необходимости тренировать ее вновь, или начинать тренировку с того места, где она была остановлена в случае если тренировочный процесс был прерван."
   ]
  },
  {
   "cell_type": "code",
   "execution_count": 27,
   "metadata": {},
   "outputs": [],
   "source": [
    "checkpoint_callback = ModelCheckpoint(filepath, monitor = 'loss', verbose = 1, save_best_only = True, mode = 'min')"
   ]
  },
  {
   "cell_type": "markdown",
   "metadata": {},
   "source": [
    "Тренируем нашу модель на количестве эпох = 120 и размером батча = 256."
   ]
  },
  {
   "cell_type": "code",
   "execution_count": 28,
   "metadata": {},
   "outputs": [
    {
     "name": "stdout",
     "output_type": "stream",
     "text": [
      "Epoch 1/120\n",
      "25862/25862 [==============================] - 7s 284us/step - loss: 2.3866\n",
      "\n",
      "Epoch 00001: loss improved from inf to 2.38664, saving model to C:/Users/hui/Desktop/AI/training_checkpoints_2/best-weights-on-01-with-2.3866.hdf5\n",
      "Epoch 2/120\n",
      "25862/25862 [==============================] - 8s 296us/step - loss: 2.3234\n",
      "\n",
      "Epoch 00002: loss improved from 2.38664 to 2.32338, saving model to C:/Users/hui/Desktop/AI/training_checkpoints_2/best-weights-on-02-with-2.3234.hdf5\n",
      "Epoch 3/120\n",
      "25862/25862 [==============================] - 8s 297us/step - loss: 2.2690\n",
      "\n",
      "Epoch 00003: loss improved from 2.32338 to 2.26904, saving model to C:/Users/hui/Desktop/AI/training_checkpoints_2/best-weights-on-03-with-2.2690.hdf5\n",
      "Epoch 4/120\n",
      "25862/25862 [==============================] - 8s 315us/step - loss: 2.2318\n",
      "\n",
      "Epoch 00004: loss improved from 2.26904 to 2.23184, saving model to C:/Users/hui/Desktop/AI/training_checkpoints_2/best-weights-on-04-with-2.2318.hdf5\n",
      "Epoch 5/120\n",
      "25862/25862 [==============================] - 7s 287us/step - loss: 2.1936\n",
      "\n",
      "Epoch 00005: loss improved from 2.23184 to 2.19364, saving model to C:/Users/hui/Desktop/AI/training_checkpoints_2/best-weights-on-05-with-2.1936.hdf5\n",
      "Epoch 6/120\n",
      "25862/25862 [==============================] - 7s 285us/step - loss: 2.1639\n",
      "\n",
      "Epoch 00006: loss improved from 2.19364 to 2.16391, saving model to C:/Users/hui/Desktop/AI/training_checkpoints_2/best-weights-on-06-with-2.1639.hdf5\n",
      "Epoch 7/120\n",
      "25862/25862 [==============================] - 6s 240us/step - loss: 2.1393\n",
      "\n",
      "Epoch 00007: loss improved from 2.16391 to 2.13928, saving model to C:/Users/hui/Desktop/AI/training_checkpoints_2/best-weights-on-07-with-2.1393.hdf5\n",
      "Epoch 8/120\n",
      "25862/25862 [==============================] - 6s 235us/step - loss: 2.1195\n",
      "\n",
      "Epoch 00008: loss improved from 2.13928 to 2.11953, saving model to C:/Users/hui/Desktop/AI/training_checkpoints_2/best-weights-on-08-with-2.1195.hdf5\n",
      "Epoch 9/120\n",
      "25862/25862 [==============================] - 6s 233us/step - loss: 2.0890\n",
      "\n",
      "Epoch 00009: loss improved from 2.11953 to 2.08903, saving model to C:/Users/hui/Desktop/AI/training_checkpoints_2/best-weights-on-09-with-2.0890.hdf5\n",
      "Epoch 10/120\n",
      "25862/25862 [==============================] - 6s 243us/step - loss: 2.0745\n",
      "\n",
      "Epoch 00010: loss improved from 2.08903 to 2.07450, saving model to C:/Users/hui/Desktop/AI/training_checkpoints_2/best-weights-on-10-with-2.0745.hdf5\n",
      "Epoch 11/120\n",
      "25862/25862 [==============================] - 6s 231us/step - loss: 2.0458\n",
      "\n",
      "Epoch 00011: loss improved from 2.07450 to 2.04582, saving model to C:/Users/hui/Desktop/AI/training_checkpoints_2/best-weights-on-11-with-2.0458.hdf5\n",
      "Epoch 12/120\n",
      "25862/25862 [==============================] - 6s 230us/step - loss: 2.0305\n",
      "\n",
      "Epoch 00012: loss improved from 2.04582 to 2.03045, saving model to C:/Users/hui/Desktop/AI/training_checkpoints_2/best-weights-on-12-with-2.0305.hdf5\n",
      "Epoch 13/120\n",
      "25862/25862 [==============================] - 6s 249us/step - loss: 2.0019\n",
      "\n",
      "Epoch 00013: loss improved from 2.03045 to 2.00187, saving model to C:/Users/hui/Desktop/AI/training_checkpoints_2/best-weights-on-13-with-2.0019.hdf5\n",
      "Epoch 14/120\n",
      "25862/25862 [==============================] - 6s 233us/step - loss: 1.9935\n",
      "\n",
      "Epoch 00014: loss improved from 2.00187 to 1.99346, saving model to C:/Users/hui/Desktop/AI/training_checkpoints_2/best-weights-on-14-with-1.9935.hdf5\n",
      "Epoch 15/120\n",
      "25862/25862 [==============================] - 6s 237us/step - loss: 1.9704\n",
      "\n",
      "Epoch 00015: loss improved from 1.99346 to 1.97037, saving model to C:/Users/hui/Desktop/AI/training_checkpoints_2/best-weights-on-15-with-1.9704.hdf5\n",
      "Epoch 16/120\n",
      "25862/25862 [==============================] - 6s 231us/step - loss: 1.9594\n",
      "\n",
      "Epoch 00016: loss improved from 1.97037 to 1.95939, saving model to C:/Users/hui/Desktop/AI/training_checkpoints_2/best-weights-on-16-with-1.9594.hdf5\n",
      "Epoch 17/120\n",
      "25862/25862 [==============================] - 6s 232us/step - loss: 1.9361\n",
      "\n",
      "Epoch 00017: loss improved from 1.95939 to 1.93607, saving model to C:/Users/hui/Desktop/AI/training_checkpoints_2/best-weights-on-17-with-1.9361.hdf5\n",
      "Epoch 18/120\n",
      "25862/25862 [==============================] - 6s 236us/step - loss: 1.9186\n",
      "\n",
      "Epoch 00018: loss improved from 1.93607 to 1.91859, saving model to C:/Users/hui/Desktop/AI/training_checkpoints_2/best-weights-on-18-with-1.9186.hdf5\n",
      "Epoch 19/120\n",
      "25862/25862 [==============================] - 6s 238us/step - loss: 1.9093\n",
      "\n",
      "Epoch 00019: loss improved from 1.91859 to 1.90930, saving model to C:/Users/hui/Desktop/AI/training_checkpoints_2/best-weights-on-19-with-1.9093.hdf5\n",
      "Epoch 20/120\n",
      "25862/25862 [==============================] - 6s 238us/step - loss: 1.8850\n",
      "\n",
      "Epoch 00020: loss improved from 1.90930 to 1.88502, saving model to C:/Users/hui/Desktop/AI/training_checkpoints_2/best-weights-on-20-with-1.8850.hdf5\n",
      "Epoch 21/120\n",
      "25862/25862 [==============================] - 6s 234us/step - loss: 1.8656\n",
      "\n",
      "Epoch 00021: loss improved from 1.88502 to 1.86558, saving model to C:/Users/hui/Desktop/AI/training_checkpoints_2/best-weights-on-21-with-1.8656.hdf5\n",
      "Epoch 22/120\n",
      "25862/25862 [==============================] - 6s 230us/step - loss: 1.8694\n",
      "\n",
      "Epoch 00022: loss did not improve from 1.86558\n",
      "Epoch 23/120\n",
      "25862/25862 [==============================] - 6s 230us/step - loss: 1.8370\n",
      "\n",
      "Epoch 00023: loss improved from 1.86558 to 1.83697, saving model to C:/Users/hui/Desktop/AI/training_checkpoints_2/best-weights-on-23-with-1.8370.hdf5\n",
      "Epoch 24/120\n",
      "25862/25862 [==============================] - 6s 231us/step - loss: 1.8197\n",
      "\n",
      "Epoch 00024: loss improved from 1.83697 to 1.81970, saving model to C:/Users/hui/Desktop/AI/training_checkpoints_2/best-weights-on-24-with-1.8197.hdf5\n",
      "Epoch 25/120\n",
      "25862/25862 [==============================] - 6s 227us/step - loss: 1.8124\n",
      "\n",
      "Epoch 00025: loss improved from 1.81970 to 1.81242, saving model to C:/Users/hui/Desktop/AI/training_checkpoints_2/best-weights-on-25-with-1.8124.hdf5\n",
      "Epoch 26/120\n",
      "25862/25862 [==============================] - 6s 235us/step - loss: 1.7931\n",
      "\n",
      "Epoch 00026: loss improved from 1.81242 to 1.79309, saving model to C:/Users/hui/Desktop/AI/training_checkpoints_2/best-weights-on-26-with-1.7931.hdf5\n",
      "Epoch 27/120\n",
      "25862/25862 [==============================] - 6s 232us/step - loss: 1.7762\n",
      "\n",
      "Epoch 00027: loss improved from 1.79309 to 1.77618, saving model to C:/Users/hui/Desktop/AI/training_checkpoints_2/best-weights-on-27-with-1.7762.hdf5\n",
      "Epoch 28/120\n",
      "25862/25862 [==============================] - 6s 235us/step - loss: 1.7771\n",
      "\n",
      "Epoch 00028: loss did not improve from 1.77618\n",
      "Epoch 29/120\n",
      "25862/25862 [==============================] - 6s 230us/step - loss: 1.7644\n",
      "\n",
      "Epoch 00029: loss improved from 1.77618 to 1.76445, saving model to C:/Users/hui/Desktop/AI/training_checkpoints_2/best-weights-on-29-with-1.7644.hdf5\n",
      "Epoch 30/120\n",
      "25862/25862 [==============================] - 6s 236us/step - loss: 1.7359\n",
      "\n",
      "Epoch 00030: loss improved from 1.76445 to 1.73589, saving model to C:/Users/hui/Desktop/AI/training_checkpoints_2/best-weights-on-30-with-1.7359.hdf5\n",
      "Epoch 31/120\n",
      "25862/25862 [==============================] - 6s 244us/step - loss: 1.7125\n",
      "\n",
      "Epoch 00031: loss improved from 1.73589 to 1.71251, saving model to C:/Users/hui/Desktop/AI/training_checkpoints_2/best-weights-on-31-with-1.7125.hdf5\n",
      "Epoch 32/120\n",
      "25862/25862 [==============================] - 6s 230us/step - loss: 1.7114\n",
      "\n",
      "Epoch 00032: loss improved from 1.71251 to 1.71140, saving model to C:/Users/hui/Desktop/AI/training_checkpoints_2/best-weights-on-32-with-1.7114.hdf5\n",
      "Epoch 33/120\n",
      "25862/25862 [==============================] - 6s 236us/step - loss: 1.7117\n",
      "\n",
      "Epoch 00033: loss did not improve from 1.71140\n",
      "Epoch 34/120\n",
      "25862/25862 [==============================] - 6s 232us/step - loss: 1.6777\n",
      "\n",
      "Epoch 00034: loss improved from 1.71140 to 1.67771, saving model to C:/Users/hui/Desktop/AI/training_checkpoints_2/best-weights-on-34-with-1.6777.hdf5\n",
      "Epoch 35/120\n",
      "25862/25862 [==============================] - 6s 233us/step - loss: 1.6705\n",
      "\n",
      "Epoch 00035: loss improved from 1.67771 to 1.67048, saving model to C:/Users/hui/Desktop/AI/training_checkpoints_2/best-weights-on-35-with-1.6705.hdf5\n",
      "Epoch 36/120\n",
      "25862/25862 [==============================] - 6s 235us/step - loss: 1.6564\n"
     ]
    },
    {
     "name": "stdout",
     "output_type": "stream",
     "text": [
      "\n",
      "Epoch 00036: loss improved from 1.67048 to 1.65641, saving model to C:/Users/hui/Desktop/AI/training_checkpoints_2/best-weights-on-36-with-1.6564.hdf5\n",
      "Epoch 37/120\n",
      "25862/25862 [==============================] - 6s 226us/step - loss: 1.6382\n",
      "\n",
      "Epoch 00037: loss improved from 1.65641 to 1.63820, saving model to C:/Users/hui/Desktop/AI/training_checkpoints_2/best-weights-on-37-with-1.6382.hdf5\n",
      "Epoch 38/120\n",
      "25862/25862 [==============================] - 6s 229us/step - loss: 1.6159\n",
      "\n",
      "Epoch 00038: loss improved from 1.63820 to 1.61593, saving model to C:/Users/hui/Desktop/AI/training_checkpoints_2/best-weights-on-38-with-1.6159.hdf5\n",
      "Epoch 39/120\n",
      "25862/25862 [==============================] - 6s 230us/step - loss: 1.6086\n",
      "\n",
      "Epoch 00039: loss improved from 1.61593 to 1.60862, saving model to C:/Users/hui/Desktop/AI/training_checkpoints_2/best-weights-on-39-with-1.6086.hdf5\n",
      "Epoch 40/120\n",
      "25862/25862 [==============================] - 6s 228us/step - loss: 1.6143\n",
      "\n",
      "Epoch 00040: loss did not improve from 1.60862\n",
      "Epoch 41/120\n",
      "25862/25862 [==============================] - 6s 223us/step - loss: 1.6025\n",
      "\n",
      "Epoch 00041: loss improved from 1.60862 to 1.60250, saving model to C:/Users/hui/Desktop/AI/training_checkpoints_2/best-weights-on-41-with-1.6025.hdf5\n",
      "Epoch 42/120\n",
      "25862/25862 [==============================] - 6s 228us/step - loss: 1.5845\n",
      "\n",
      "Epoch 00042: loss improved from 1.60250 to 1.58451, saving model to C:/Users/hui/Desktop/AI/training_checkpoints_2/best-weights-on-42-with-1.5845.hdf5\n",
      "Epoch 43/120\n",
      "25862/25862 [==============================] - 6s 230us/step - loss: 1.5862\n",
      "\n",
      "Epoch 00043: loss did not improve from 1.58451\n",
      "Epoch 44/120\n",
      "25862/25862 [==============================] - 6s 225us/step - loss: 1.5378\n",
      "\n",
      "Epoch 00044: loss improved from 1.58451 to 1.53779, saving model to C:/Users/hui/Desktop/AI/training_checkpoints_2/best-weights-on-44-with-1.5378.hdf5\n",
      "Epoch 45/120\n",
      "25862/25862 [==============================] - 6s 227us/step - loss: 1.5473\n",
      "\n",
      "Epoch 00045: loss did not improve from 1.53779\n",
      "Epoch 46/120\n",
      "25862/25862 [==============================] - 7s 273us/step - loss: 1.5610\n",
      "\n",
      "Epoch 00046: loss did not improve from 1.53779\n",
      "Epoch 47/120\n",
      "25862/25862 [==============================] - 6s 234us/step - loss: 1.5218\n",
      "\n",
      "Epoch 00047: loss improved from 1.53779 to 1.52184, saving model to C:/Users/hui/Desktop/AI/training_checkpoints_2/best-weights-on-47-with-1.5218.hdf5\n",
      "Epoch 48/120\n",
      "25862/25862 [==============================] - 6s 245us/step - loss: 1.5238\n",
      "\n",
      "Epoch 00048: loss did not improve from 1.52184\n",
      "Epoch 49/120\n",
      "25862/25862 [==============================] - 6s 227us/step - loss: 1.5267\n",
      "\n",
      "Epoch 00049: loss did not improve from 1.52184\n",
      "Epoch 50/120\n",
      "25862/25862 [==============================] - 6s 224us/step - loss: 1.5202\n",
      "\n",
      "Epoch 00050: loss improved from 1.52184 to 1.52020, saving model to C:/Users/hui/Desktop/AI/training_checkpoints_2/best-weights-on-50-with-1.5202.hdf5\n",
      "Epoch 51/120\n",
      "25862/25862 [==============================] - 6s 235us/step - loss: 1.4930\n",
      "\n",
      "Epoch 00051: loss improved from 1.52020 to 1.49302, saving model to C:/Users/hui/Desktop/AI/training_checkpoints_2/best-weights-on-51-with-1.4930.hdf5\n",
      "Epoch 52/120\n",
      "25862/25862 [==============================] - 6s 228us/step - loss: 1.4945\n",
      "\n",
      "Epoch 00052: loss did not improve from 1.49302\n",
      "Epoch 53/120\n",
      "25862/25862 [==============================] - 6s 228us/step - loss: 1.4644\n",
      "\n",
      "Epoch 00053: loss improved from 1.49302 to 1.46444, saving model to C:/Users/hui/Desktop/AI/training_checkpoints_2/best-weights-on-53-with-1.4644.hdf5\n",
      "Epoch 54/120\n",
      "25862/25862 [==============================] - 6s 239us/step - loss: 1.4374\n",
      "\n",
      "Epoch 00054: loss improved from 1.46444 to 1.43737, saving model to C:/Users/hui/Desktop/AI/training_checkpoints_2/best-weights-on-54-with-1.4374.hdf5\n",
      "Epoch 55/120\n",
      "25862/25862 [==============================] - 6s 240us/step - loss: 1.4543\n",
      "\n",
      "Epoch 00055: loss did not improve from 1.43737\n",
      "Epoch 56/120\n",
      "25862/25862 [==============================] - 7s 268us/step - loss: 1.4201\n",
      "\n",
      "Epoch 00056: loss improved from 1.43737 to 1.42010, saving model to C:/Users/hui/Desktop/AI/training_checkpoints_2/best-weights-on-56-with-1.4201.hdf5\n",
      "Epoch 57/120\n",
      "25862/25862 [==============================] - 7s 260us/step - loss: 1.4407 0s \n",
      "\n",
      "Epoch 00057: loss did not improve from 1.42010\n",
      "Epoch 58/120\n",
      "25862/25862 [==============================] - 7s 262us/step - loss: 1.4523\n",
      "\n",
      "Epoch 00058: loss did not improve from 1.42010\n",
      "Epoch 59/120\n",
      "25862/25862 [==============================] - 7s 289us/step - loss: 1.4052\n",
      "\n",
      "Epoch 00059: loss improved from 1.42010 to 1.40517, saving model to C:/Users/hui/Desktop/AI/training_checkpoints_2/best-weights-on-59-with-1.4052.hdf5\n",
      "Epoch 60/120\n",
      "25862/25862 [==============================] - 6s 231us/step - loss: 1.4200\n",
      "\n",
      "Epoch 00060: loss did not improve from 1.40517\n",
      "Epoch 61/120\n",
      "25862/25862 [==============================] - 6s 247us/step - loss: 1.3834\n",
      "\n",
      "Epoch 00061: loss improved from 1.40517 to 1.38343, saving model to C:/Users/hui/Desktop/AI/training_checkpoints_2/best-weights-on-61-with-1.3834.hdf5\n",
      "Epoch 62/120\n",
      "25862/25862 [==============================] - 8s 300us/step - loss: 1.3935\n",
      "\n",
      "Epoch 00062: loss did not improve from 1.38343\n",
      "Epoch 63/120\n",
      "25862/25862 [==============================] - 7s 269us/step - loss: 1.3693\n",
      "\n",
      "Epoch 00063: loss improved from 1.38343 to 1.36927, saving model to C:/Users/hui/Desktop/AI/training_checkpoints_2/best-weights-on-63-with-1.3693.hdf5\n",
      "Epoch 64/120\n",
      "25862/25862 [==============================] - 6s 243us/step - loss: 1.3718\n",
      "\n",
      "Epoch 00064: loss did not improve from 1.36927\n",
      "Epoch 65/120\n",
      "25862/25862 [==============================] - 7s 267us/step - loss: 1.3448\n",
      "\n",
      "Epoch 00065: loss improved from 1.36927 to 1.34484, saving model to C:/Users/hui/Desktop/AI/training_checkpoints_2/best-weights-on-65-with-1.3448.hdf5\n",
      "Epoch 66/120\n",
      "25862/25862 [==============================] - 8s 313us/step - loss: 1.3910\n",
      "\n",
      "Epoch 00066: loss did not improve from 1.34484\n",
      "Epoch 67/120\n",
      "25862/25862 [==============================] - 8s 324us/step - loss: 1.3796\n",
      "\n",
      "Epoch 00067: loss did not improve from 1.34484\n",
      "Epoch 68/120\n",
      "25862/25862 [==============================] - 7s 276us/step - loss: 1.3456\n",
      "\n",
      "Epoch 00068: loss did not improve from 1.34484\n",
      "Epoch 69/120\n",
      "25862/25862 [==============================] - 7s 287us/step - loss: 1.3096\n",
      "\n",
      "Epoch 00069: loss improved from 1.34484 to 1.30955, saving model to C:/Users/hui/Desktop/AI/training_checkpoints_2/best-weights-on-69-with-1.3096.hdf5\n",
      "Epoch 70/120\n",
      "25862/25862 [==============================] - 7s 273us/step - loss: 1.3355\n",
      "\n",
      "Epoch 00070: loss did not improve from 1.30955\n",
      "Epoch 71/120\n",
      "25862/25862 [==============================] - 7s 263us/step - loss: 1.3108\n",
      "\n",
      "Epoch 00071: loss did not improve from 1.30955\n",
      "Epoch 72/120\n",
      "25862/25862 [==============================] - 6s 244us/step - loss: 1.3248\n",
      "\n",
      "Epoch 00072: loss did not improve from 1.30955\n",
      "Epoch 73/120\n",
      "25862/25862 [==============================] - 7s 253us/step - loss: 1.3797\n",
      "\n",
      "Epoch 00073: loss did not improve from 1.30955\n",
      "Epoch 74/120\n",
      "25862/25862 [==============================] - 7s 259us/step - loss: 1.3121\n",
      "\n",
      "Epoch 00074: loss did not improve from 1.30955\n",
      "Epoch 75/120\n",
      "25862/25862 [==============================] - 6s 244us/step - loss: 1.2921\n",
      "\n",
      "Epoch 00075: loss improved from 1.30955 to 1.29207, saving model to C:/Users/hui/Desktop/AI/training_checkpoints_2/best-weights-on-75-with-1.2921.hdf5\n",
      "Epoch 76/120\n",
      "25862/25862 [==============================] - 6s 250us/step - loss: 1.3087\n",
      "\n",
      "Epoch 00076: loss did not improve from 1.29207\n",
      "Epoch 77/120\n",
      "25862/25862 [==============================] - 7s 261us/step - loss: 1.3185\n",
      "\n",
      "Epoch 00077: loss did not improve from 1.29207\n",
      "Epoch 78/120\n",
      "25862/25862 [==============================] - 6s 242us/step - loss: 1.3739\n",
      "\n",
      "Epoch 00078: loss did not improve from 1.29207\n",
      "Epoch 79/120\n",
      "25862/25862 [==============================] - 6s 244us/step - loss: 1.2740\n",
      "\n",
      "Epoch 00079: loss improved from 1.29207 to 1.27401, saving model to C:/Users/hui/Desktop/AI/training_checkpoints_2/best-weights-on-79-with-1.2740.hdf5\n",
      "Epoch 80/120\n",
      "25862/25862 [==============================] - 6s 246us/step - loss: 1.5536\n",
      "\n",
      "Epoch 00080: loss did not improve from 1.27401\n",
      "Epoch 81/120\n"
     ]
    },
    {
     "name": "stdout",
     "output_type": "stream",
     "text": [
      "25862/25862 [==============================] - 7s 253us/step - loss: 1.3539\n",
      "\n",
      "Epoch 00081: loss did not improve from 1.27401\n",
      "Epoch 82/120\n",
      "25862/25862 [==============================] - 7s 265us/step - loss: 1.3183\n",
      "\n",
      "Epoch 00082: loss did not improve from 1.27401\n",
      "Epoch 83/120\n",
      "25862/25862 [==============================] - 7s 261us/step - loss: 1.3339\n",
      "\n",
      "Epoch 00083: loss did not improve from 1.27401\n",
      "Epoch 84/120\n",
      "25862/25862 [==============================] - 7s 254us/step - loss: 1.2781\n",
      "\n",
      "Epoch 00084: loss did not improve from 1.27401\n",
      "Epoch 85/120\n",
      "25862/25862 [==============================] - 6s 242us/step - loss: 1.2752\n",
      "\n",
      "Epoch 00085: loss did not improve from 1.27401\n",
      "Epoch 86/120\n",
      "25862/25862 [==============================] - 6s 240us/step - loss: 1.2878\n",
      "\n",
      "Epoch 00086: loss did not improve from 1.27401\n",
      "Epoch 87/120\n",
      "25862/25862 [==============================] - 6s 235us/step - loss: 1.2202\n",
      "\n",
      "Epoch 00087: loss improved from 1.27401 to 1.22022, saving model to C:/Users/hui/Desktop/AI/training_checkpoints_2/best-weights-on-87-with-1.2202.hdf5\n",
      "Epoch 88/120\n",
      "25862/25862 [==============================] - 6s 232us/step - loss: 1.1909\n",
      "\n",
      "Epoch 00088: loss improved from 1.22022 to 1.19093, saving model to C:/Users/hui/Desktop/AI/training_checkpoints_2/best-weights-on-88-with-1.1909.hdf5\n",
      "Epoch 89/120\n",
      "25862/25862 [==============================] - 6s 229us/step - loss: 1.2175\n",
      "\n",
      "Epoch 00089: loss did not improve from 1.19093\n",
      "Epoch 90/120\n",
      "25862/25862 [==============================] - 6s 226us/step - loss: 1.2084\n",
      "\n",
      "Epoch 00090: loss did not improve from 1.19093\n",
      "Epoch 91/120\n",
      "25862/25862 [==============================] - 6s 233us/step - loss: 1.2473\n",
      "\n",
      "Epoch 00091: loss did not improve from 1.19093\n",
      "Epoch 92/120\n",
      "25862/25862 [==============================] - 6s 230us/step - loss: 1.2298\n",
      "\n",
      "Epoch 00092: loss did not improve from 1.19093\n",
      "Epoch 93/120\n",
      "25862/25862 [==============================] - 6s 225us/step - loss: 1.2370\n",
      "\n",
      "Epoch 00093: loss did not improve from 1.19093\n",
      "Epoch 94/120\n",
      "25862/25862 [==============================] - 6s 224us/step - loss: 1.3211\n",
      "\n",
      "Epoch 00094: loss did not improve from 1.19093\n",
      "Epoch 95/120\n",
      "25862/25862 [==============================] - 6s 231us/step - loss: 1.2105\n",
      "\n",
      "Epoch 00095: loss did not improve from 1.19093\n",
      "Epoch 96/120\n",
      "25862/25862 [==============================] - 6s 225us/step - loss: 1.3411\n",
      "\n",
      "Epoch 00096: loss did not improve from 1.19093\n",
      "Epoch 97/120\n",
      "25862/25862 [==============================] - 6s 226us/step - loss: 1.2016\n",
      "\n",
      "Epoch 00097: loss did not improve from 1.19093\n",
      "Epoch 98/120\n",
      "25862/25862 [==============================] - 6s 224us/step - loss: 1.1814\n",
      "\n",
      "Epoch 00098: loss improved from 1.19093 to 1.18138, saving model to C:/Users/hui/Desktop/AI/training_checkpoints_2/best-weights-on-98-with-1.1814.hdf5\n",
      "Epoch 99/120\n",
      "25862/25862 [==============================] - 6s 226us/step - loss: 1.1565 0s -\n",
      "\n",
      "Epoch 00099: loss improved from 1.18138 to 1.15650, saving model to C:/Users/hui/Desktop/AI/training_checkpoints_2/best-weights-on-99-with-1.1565.hdf5\n",
      "Epoch 100/120\n",
      "25862/25862 [==============================] - 6s 239us/step - loss: 1.2078\n",
      "\n",
      "Epoch 00100: loss did not improve from 1.15650\n",
      "Epoch 101/120\n",
      "25862/25862 [==============================] - 6s 226us/step - loss: 1.2084\n",
      "\n",
      "Epoch 00101: loss did not improve from 1.15650\n",
      "Epoch 102/120\n",
      "25862/25862 [==============================] - 6s 227us/step - loss: 1.3884\n",
      "\n",
      "Epoch 00102: loss did not improve from 1.15650\n",
      "Epoch 103/120\n",
      "25862/25862 [==============================] - 6s 226us/step - loss: 1.1644\n",
      "\n",
      "Epoch 00103: loss did not improve from 1.15650\n",
      "Epoch 104/120\n",
      "25862/25862 [==============================] - 6s 243us/step - loss: 1.2416\n",
      "\n",
      "Epoch 00104: loss did not improve from 1.15650\n",
      "Epoch 105/120\n",
      "25862/25862 [==============================] - 6s 229us/step - loss: 1.1637\n",
      "\n",
      "Epoch 00105: loss did not improve from 1.15650\n",
      "Epoch 106/120\n",
      "25862/25862 [==============================] - 6s 226us/step - loss: 1.2152\n",
      "\n",
      "Epoch 00106: loss did not improve from 1.15650\n",
      "Epoch 107/120\n",
      "25862/25862 [==============================] - 6s 233us/step - loss: 1.1961\n",
      "\n",
      "Epoch 00107: loss did not improve from 1.15650\n",
      "Epoch 108/120\n",
      "25862/25862 [==============================] - 6s 226us/step - loss: 1.2200\n",
      "\n",
      "Epoch 00108: loss did not improve from 1.15650\n",
      "Epoch 109/120\n",
      "25862/25862 [==============================] - 6s 225us/step - loss: 1.1535\n",
      "\n",
      "Epoch 00109: loss improved from 1.15650 to 1.15354, saving model to C:/Users/hui/Desktop/AI/training_checkpoints_2/best-weights-on-109-with-1.1535.hdf5\n",
      "Epoch 110/120\n",
      "25862/25862 [==============================] - 6s 226us/step - loss: 1.1558\n",
      "\n",
      "Epoch 00110: loss did not improve from 1.15354\n",
      "Epoch 111/120\n",
      "25862/25862 [==============================] - 6s 231us/step - loss: 1.2648\n",
      "\n",
      "Epoch 00111: loss did not improve from 1.15354\n",
      "Epoch 112/120\n",
      "25862/25862 [==============================] - 6s 229us/step - loss: 1.1832\n",
      "\n",
      "Epoch 00112: loss did not improve from 1.15354\n",
      "Epoch 113/120\n",
      "25862/25862 [==============================] - 6s 229us/step - loss: 1.1493\n",
      "\n",
      "Epoch 00113: loss improved from 1.15354 to 1.14934, saving model to C:/Users/hui/Desktop/AI/training_checkpoints_2/best-weights-on-113-with-1.1493.hdf5\n",
      "Epoch 114/120\n",
      "25862/25862 [==============================] - 6s 242us/step - loss: 1.1216\n",
      "\n",
      "Epoch 00114: loss improved from 1.14934 to 1.12156, saving model to C:/Users/hui/Desktop/AI/training_checkpoints_2/best-weights-on-114-with-1.1216.hdf5\n",
      "Epoch 115/120\n",
      "25862/25862 [==============================] - 6s 237us/step - loss: 1.1407\n",
      "\n",
      "Epoch 00115: loss did not improve from 1.12156\n",
      "Epoch 116/120\n",
      "25862/25862 [==============================] - 6s 248us/step - loss: 1.2211\n",
      "\n",
      "Epoch 00116: loss did not improve from 1.12156\n",
      "Epoch 117/120\n",
      "25862/25862 [==============================] - 6s 229us/step - loss: 1.1432\n",
      "\n",
      "Epoch 00117: loss did not improve from 1.12156\n",
      "Epoch 118/120\n",
      "25862/25862 [==============================] - 6s 229us/step - loss: 1.1521\n",
      "\n",
      "Epoch 00118: loss did not improve from 1.12156\n",
      "Epoch 119/120\n",
      "25862/25862 [==============================] - 6s 229us/step - loss: 1.1709\n",
      "\n",
      "Epoch 00119: loss did not improve from 1.12156\n",
      "Epoch 120/120\n",
      "25862/25862 [==============================] - 6s 230us/step - loss: 1.1658\n",
      "\n",
      "Epoch 00120: loss did not improve from 1.12156\n"
     ]
    }
   ],
   "source": [
    "hist1 = model1.fit(x, y,\n",
    "              batch_size = batch_size,\n",
    "              epochs = option['epochs'],\n",
    "              callbacks = [checkpoint_callback])"
   ]
  },
  {
   "cell_type": "markdown",
   "metadata": {},
   "source": [
    "Теперь приступим к генерации текста. Мы загружаем лучшие веса (наименьшая потеря) уже обученной нейросети."
   ]
  },
  {
   "cell_type": "code",
   "execution_count": 31,
   "metadata": {},
   "outputs": [],
   "source": [
    "model1.load_weights('C:/Users/hui/Desktop/AI/training_checkpoints_2/best-weights-on-114-with-1.1216.hdf5')\n"
   ]
  },
  {
   "cell_type": "markdown",
   "metadata": {},
   "source": [
    "Настраиваем модель."
   ]
  },
  {
   "cell_type": "code",
   "execution_count": 32,
   "metadata": {},
   "outputs": [],
   "source": [
    "model1.compile(loss = 'categorical_crossentropy', optimizer = 'adam')\n"
   ]
  },
  {
   "cell_type": "code",
   "execution_count": 33,
   "metadata": {
    "scrolled": true
   },
   "outputs": [
    {
     "name": "stdout",
     "output_type": "stream",
     "text": [
      "Model: \"sequential_1\"\n",
      "_________________________________________________________________\n",
      "Layer (type)                 Output Shape              Param #   \n",
      "=================================================================\n",
      "simple_rnn_1 (SimpleRNN)     (None, 128)               24064     \n",
      "_________________________________________________________________\n",
      "dense_1 (Dense)              (None, 59)                7611      \n",
      "_________________________________________________________________\n",
      "activation_1 (Activation)    (None, 59)                0         \n",
      "=================================================================\n",
      "Total params: 31,675\n",
      "Trainable params: 31,675\n",
      "Non-trainable params: 0\n",
      "_________________________________________________________________\n"
     ]
    }
   ],
   "source": [
    "model1.summary()"
   ]
  },
  {
   "cell_type": "code",
   "execution_count": 34,
   "metadata": {},
   "outputs": [],
   "source": [
    "def generate_text(model, start_string, gen_length):\n",
    "    # Зададим вариативность\n",
    "    diversity = 1.0\n",
    "    # Начало генерируемого текста\n",
    "    sentence = text[start_index: start_index + maxlen]\n",
    "    print(sentence)\n",
    "    # Запускаем посимвольную генерацию\n",
    "    for i in range(gen_length):\n",
    "        # Создаем массив нулей, в который запишем векторы символов входной строки\n",
    "        x_pred = np.zeros((1, maxlen, len(chars)))\n",
    "        for t, char in enumerate(sentence):\n",
    "            x_pred[0, t, char_indices[char]] = 1.\n",
    "\n",
    "        # Используем модель для прогнозирования\n",
    "        preds = model.predict(x_pred, verbose = 0)[0]\n",
    "        # Получаем наиболее вероятный индекс следующего символа по предсказаниям нейросети\n",
    "        next_index = sample(preds, diversity)\n",
    "        # Наиболее вероятный следующий символ по полученному индексу\n",
    "        next_char = indices_char[next_index]\n",
    "\n",
    "        sentence = sentence[1:] + next_char\n",
    "\n",
    "        sys.stdout.write(next_char)\n",
    "        sys.stdout.flush()\n",
    "    print()"
   ]
  },
  {
   "cell_type": "markdown",
   "metadata": {},
   "source": [
    "Случайно выбираем начало входной последовательности и сгенерируем текст по уже обученной нейросети."
   ]
  },
  {
   "cell_type": "code",
   "execution_count": 35,
   "metadata": {
    "scrolled": true
   },
   "outputs": [
    {
     "name": "stdout",
     "output_type": "stream",
     "text": [
      "ни никак не могут представить себе этот \n",
      "потровую шилобыл польвотав поремут.\n",
      " - ду, кой расть зреглы и когданих: гаровзо! в донь я будре трудо - вузныхраташнов еспь ина долая ни потут баласукий чество. но вытил савые чудо продол вылом ем. гоговели шик с чного. и учты \". мебарить пон мог, - с азакая нем радеть и потсли ним шедить десь озжезнь.\n",
      " ногов е прадужетал онобо вуркеши волочео - оприсмалоть б-ладата ствеспо.\n",
      " - покая, - какотвают у пнох...\"и ризупель дебя да пестыте тетеко.\n",
      " - аси стался, чтостувенься, - спросил мол цветал сакдел нугды.\n",
      " - вотил мне редь? когда дежевдя гдямери\"ь пробочитать, чтобы придемиять. планетеют, что да, он и инесилня:\n",
      " - коз чно бельнови воврим е пудеметел серицасям мне оме челнот сямнца. млочен ещи дов дали он бедь, ма, но я быв посомать и тарослюни гдома ся нас оде жизал онае склотый пусьнем никой и скараастллянни\n",
      " - значше моляшь... не пужемнять полихним я но не кардатселы тиросниросвар, что сприсли, ис м очуго увидут потолпат, провотруя в почши, л е пенахздулосе винцо.\n",
      " - кугода те твсемник, поковуг задьси гаядой мыл тыветыл смбетрезньядь, каск стень салься?\n",
      " - ворисны уременя о споинеть? то был не тепящикого покном, го олконужмыень огливая моесто, и тыл калы проспоть лесте саром чешь?\n",
      "\n",
      "\n",
      " \u0014xiiiiiъ\n",
      "\n",
      "\n",
      " - микопот, на огом. я весьволком.\n",
      " точерою пиинить, чтобу цветвид не вебеонь, и ответол жилсть о ток м даше сластееньй. и мылня.\n",
      " - он, жна носо мегланек... и подну спрося не ках вскола оночьоб в ссещеи тно молчиту шкал ина совсегдв и скуюдл гу.\n",
      "ы- илисти мнечистоль онпещнижа те бебло\n",
      "None\n"
     ]
    }
   ],
   "source": [
    "start_index = random.randint(0, len(text) - maxlen - 1)\n",
    "print(generate_text(model1, start_string = text[start_index: start_index + maxlen], gen_length = gen_length))"
   ]
  },
  {
   "cell_type": "markdown",
   "metadata": {},
   "source": [
    "Посмотрим на значение потерь на обучающих данных."
   ]
  },
  {
   "cell_type": "code",
   "execution_count": 36,
   "metadata": {},
   "outputs": [
    {
     "name": "stdout",
     "output_type": "stream",
     "text": [
      "Потери на данных\n",
      "loss: 1.051\n"
     ]
    }
   ],
   "source": [
    "test_acc = model1.evaluate(x, y, verbose = 2)\n",
    "print(\"Потери на данных\")\n",
    "print(\"%s: %.3f\" % (model1.metrics_names[0], test_acc)) # loss (потери)\n"
   ]
  },
  {
   "cell_type": "markdown",
   "metadata": {},
   "source": [
    "Построим график потерь для простой полносвязной RNN."
   ]
  },
  {
   "cell_type": "code",
   "execution_count": 37,
   "metadata": {},
   "outputs": [
    {
     "data": {
      "image/png": "[encoded data removed]",
      "text/plain": [
       "<Figure size 432x288 with 1 Axes>"
      ]
     },
     "metadata": {
      "needs_background": "light"
     },
     "output_type": "display_data"
    }
   ],
   "source": [
    "import matplotlib.pyplot as plt\n",
    "\n",
    "plt.plot(hist1.history['loss'])\n",
    "plt.title('Model loss')\n",
    "plt.ylabel('Loss')\n",
    "plt.xlabel('Epoch')\n",
    "plt.legend(['Train'], loc = 'upper left')\n",
    "plt.show()"
   ]
  },
  {
   "cell_type": "markdown",
   "metadata": {},
   "source": [
    "Вывод: значение потерь равно 1.051 по уже обученной нейросети."
   ]
  },
  {
   "cell_type": "markdown",
   "metadata": {},
   "source": [
    "Теперь приступим к однослойной LSTM."
   ]
  },
  {
   "cell_type": "code",
   "execution_count": 41,
   "metadata": {},
   "outputs": [
    {
     "name": "stdout",
     "output_type": "stream",
     "text": [
      "Model: \"sequential_1\"\n",
      "_________________________________________________________________\n",
      "Layer (type)                 Output Shape              Param #   \n",
      "=================================================================\n",
      "lstm_1 (LSTM)                (None, 128)               96256     \n",
      "_________________________________________________________________\n",
      "dropout_1 (Dropout)          (None, 128)               0         \n",
      "_________________________________________________________________\n",
      "dense_1 (Dense)              (None, 59)                7611      \n",
      "_________________________________________________________________\n",
      "activation_1 (Activation)    (None, 59)                0         \n",
      "=================================================================\n",
      "Total params: 103,867\n",
      "Trainable params: 103,867\n",
      "Non-trainable params: 0\n",
      "_________________________________________________________________\n",
      "Epoch 1/120\n",
      "25862/25862 [==============================] - 26s 997us/step - loss: 3.3243\n",
      "\n",
      "Epoch 00001: loss improved from inf to 3.32428, saving model to C:/Users/hui/Desktop/AI/training_checkpoints_3/best-weights-on-01-with-3.3243.hdf5\n",
      "Epoch 2/120\n",
      "25862/25862 [==============================] - 24s 921us/step - loss: 3.1324\n",
      "\n",
      "Epoch 00002: loss improved from 3.32428 to 3.13239, saving model to C:/Users/hui/Desktop/AI/training_checkpoints_3/best-weights-on-02-with-3.1324.hdf5\n",
      "Epoch 3/120\n",
      "25862/25862 [==============================] - 23s 898us/step - loss: 2.9784\n",
      "\n",
      "Epoch 00003: loss improved from 3.13239 to 2.97836, saving model to C:/Users/hui/Desktop/AI/training_checkpoints_3/best-weights-on-03-with-2.9784.hdf5\n",
      "Epoch 4/120\n",
      "25862/25862 [==============================] - 23s 898us/step - loss: 2.7878\n",
      "\n",
      "Epoch 00004: loss improved from 2.97836 to 2.78777, saving model to C:/Users/hui/Desktop/AI/training_checkpoints_3/best-weights-on-04-with-2.7878.hdf5\n",
      "Epoch 5/120\n",
      "25862/25862 [==============================] - 24s 912us/step - loss: 2.6457\n",
      "\n",
      "Epoch 00005: loss improved from 2.78777 to 2.64568, saving model to C:/Users/hui/Desktop/AI/training_checkpoints_3/best-weights-on-05-with-2.6457.hdf5\n",
      "Epoch 6/120\n",
      "25862/25862 [==============================] - 23s 878us/step - loss: 2.5564\n",
      "\n",
      "Epoch 00006: loss improved from 2.64568 to 2.55641, saving model to C:/Users/hui/Desktop/AI/training_checkpoints_3/best-weights-on-06-with-2.5564.hdf5\n",
      "Epoch 7/120\n",
      "25862/25862 [==============================] - 23s 883us/step - loss: 2.4937\n",
      "\n",
      "Epoch 00007: loss improved from 2.55641 to 2.49372, saving model to C:/Users/hui/Desktop/AI/training_checkpoints_3/best-weights-on-07-with-2.4937.hdf5\n",
      "Epoch 8/120\n",
      "25862/25862 [==============================] - 23s 885us/step - loss: 2.4408\n",
      "\n",
      "Epoch 00008: loss improved from 2.49372 to 2.44082, saving model to C:/Users/hui/Desktop/AI/training_checkpoints_3/best-weights-on-08-with-2.4408.hdf5\n",
      "Epoch 9/120\n",
      "25862/25862 [==============================] - 24s 937us/step - loss: 2.4007\n",
      "\n",
      "Epoch 00009: loss improved from 2.44082 to 2.40071, saving model to C:/Users/hui/Desktop/AI/training_checkpoints_3/best-weights-on-09-with-2.4007.hdf5\n",
      "Epoch 10/120\n",
      "25862/25862 [==============================] - 25s 978us/step - loss: 2.3653\n",
      "\n",
      "Epoch 00010: loss improved from 2.40071 to 2.36530, saving model to C:/Users/hui/Desktop/AI/training_checkpoints_3/best-weights-on-10-with-2.3653.hdf5\n",
      "Epoch 11/120\n",
      "25862/25862 [==============================] - 24s 920us/step - loss: 2.3411\n",
      "\n",
      "Epoch 00011: loss improved from 2.36530 to 2.34108, saving model to C:/Users/hui/Desktop/AI/training_checkpoints_3/best-weights-on-11-with-2.3411.hdf5\n",
      "Epoch 12/120\n",
      "25862/25862 [==============================] - 24s 924us/step - loss: 2.3069\n",
      "\n",
      "Epoch 00012: loss improved from 2.34108 to 2.30686, saving model to C:/Users/hui/Desktop/AI/training_checkpoints_3/best-weights-on-12-with-2.3069.hdf5\n",
      "Epoch 13/120\n",
      "25862/25862 [==============================] - 24s 913us/step - loss: 2.2842\n",
      "\n",
      "Epoch 00013: loss improved from 2.30686 to 2.28419, saving model to C:/Users/hui/Desktop/AI/training_checkpoints_3/best-weights-on-13-with-2.2842.hdf5\n",
      "Epoch 14/120\n",
      "25862/25862 [==============================] - 23s 906us/step - loss: 2.2565\n",
      "\n",
      "Epoch 00014: loss improved from 2.28419 to 2.25652, saving model to C:/Users/hui/Desktop/AI/training_checkpoints_3/best-weights-on-14-with-2.2565.hdf5\n",
      "Epoch 15/120\n",
      "25862/25862 [==============================] - 24s 914us/step - loss: 2.2415\n",
      "\n",
      "Epoch 00015: loss improved from 2.25652 to 2.24149, saving model to C:/Users/hui/Desktop/AI/training_checkpoints_3/best-weights-on-15-with-2.2415.hdf5\n",
      "Epoch 16/120\n",
      "25862/25862 [==============================] - 23s 907us/step - loss: 2.2205\n",
      "\n",
      "Epoch 00016: loss improved from 2.24149 to 2.22047, saving model to C:/Users/hui/Desktop/AI/training_checkpoints_3/best-weights-on-16-with-2.2205.hdf5\n",
      "Epoch 17/120\n",
      "25862/25862 [==============================] - 23s 882us/step - loss: 2.1962\n",
      "\n",
      "Epoch 00017: loss improved from 2.22047 to 2.19622, saving model to C:/Users/hui/Desktop/AI/training_checkpoints_3/best-weights-on-17-with-2.1962.hdf5\n",
      "Epoch 18/120\n",
      "25862/25862 [==============================] - 23s 880us/step - loss: 2.1743\n",
      "\n",
      "Epoch 00018: loss improved from 2.19622 to 2.17426, saving model to C:/Users/hui/Desktop/AI/training_checkpoints_3/best-weights-on-18-with-2.1743.hdf5\n",
      "Epoch 19/120\n",
      "25862/25862 [==============================] - 23s 898us/step - loss: 2.1611\n",
      "\n",
      "Epoch 00019: loss improved from 2.17426 to 2.16105, saving model to C:/Users/hui/Desktop/AI/training_checkpoints_3/best-weights-on-19-with-2.1611.hdf5\n",
      "Epoch 20/120\n",
      "25862/25862 [==============================] - 24s 928us/step - loss: 2.1322\n",
      "\n",
      "Epoch 00020: loss improved from 2.16105 to 2.13216, saving model to C:/Users/hui/Desktop/AI/training_checkpoints_3/best-weights-on-20-with-2.1322.hdf5\n",
      "Epoch 21/120\n",
      "25862/25862 [==============================] - 24s 912us/step - loss: 2.1197\n",
      "\n",
      "Epoch 00021: loss improved from 2.13216 to 2.11974, saving model to C:/Users/hui/Desktop/AI/training_checkpoints_3/best-weights-on-21-with-2.1197.hdf5\n",
      "Epoch 22/120\n",
      "25862/25862 [==============================] - 24s 915us/step - loss: 2.1006\n",
      "\n",
      "Epoch 00022: loss improved from 2.11974 to 2.10061, saving model to C:/Users/hui/Desktop/AI/training_checkpoints_3/best-weights-on-22-with-2.1006.hdf5\n",
      "Epoch 23/120\n",
      "25862/25862 [==============================] - 24s 918us/step - loss: 2.0802\n",
      "\n",
      "Epoch 00023: loss improved from 2.10061 to 2.08024, saving model to C:/Users/hui/Desktop/AI/training_checkpoints_3/best-weights-on-23-with-2.0802.hdf5\n",
      "Epoch 24/120\n",
      "25862/25862 [==============================] - 24s 916us/step - loss: 2.0647\n",
      "\n",
      "Epoch 00024: loss improved from 2.08024 to 2.06468, saving model to C:/Users/hui/Desktop/AI/training_checkpoints_3/best-weights-on-24-with-2.0647.hdf5\n",
      "Epoch 25/120\n",
      "25862/25862 [==============================] - 23s 877us/step - loss: 2.0433\n",
      "\n",
      "Epoch 00025: loss improved from 2.06468 to 2.04328, saving model to C:/Users/hui/Desktop/AI/training_checkpoints_3/best-weights-on-25-with-2.0433.hdf5\n",
      "Epoch 26/120\n",
      "25862/25862 [==============================] - 24s 910us/step - loss: 2.0253\n",
      "\n",
      "Epoch 00026: loss improved from 2.04328 to 2.02527, saving model to C:/Users/hui/Desktop/AI/training_checkpoints_3/best-weights-on-26-with-2.0253.hdf5\n",
      "Epoch 27/120\n",
      "25862/25862 [==============================] - 23s 880us/step - loss: 2.0138\n",
      "\n",
      "Epoch 00027: loss improved from 2.02527 to 2.01383, saving model to C:/Users/hui/Desktop/AI/training_checkpoints_3/best-weights-on-27-with-2.0138.hdf5\n",
      "Epoch 28/120\n",
      "25862/25862 [==============================] - 23s 876us/step - loss: 1.9983\n",
      "\n",
      "Epoch 00028: loss improved from 2.01383 to 1.99830, saving model to C:/Users/hui/Desktop/AI/training_checkpoints_3/best-weights-on-28-with-1.9983.hdf5\n",
      "Epoch 29/120\n",
      "25862/25862 [==============================] - 23s 905us/step - loss: 1.9755\n",
      "\n",
      "Epoch 00029: loss improved from 1.99830 to 1.97554, saving model to C:/Users/hui/Desktop/AI/training_checkpoints_3/best-weights-on-29-with-1.9755.hdf5\n",
      "Epoch 30/120\n",
      "25862/25862 [==============================] - 24s 925us/step - loss: 1.9652\n",
      "\n",
      "Epoch 00030: loss improved from 1.97554 to 1.96522, saving model to C:/Users/hui/Desktop/AI/training_checkpoints_3/best-weights-on-30-with-1.9652.hdf5\n",
      "Epoch 31/120\n"
     ]
    },
    {
     "name": "stdout",
     "output_type": "stream",
     "text": [
      "25862/25862 [==============================] - 23s 886us/step - loss: 1.9526\n",
      "\n",
      "Epoch 00031: loss improved from 1.96522 to 1.95257, saving model to C:/Users/hui/Desktop/AI/training_checkpoints_3/best-weights-on-31-with-1.9526.hdf5\n",
      "Epoch 32/120\n",
      "25862/25862 [==============================] - 23s 897us/step - loss: 1.9304\n",
      "\n",
      "Epoch 00032: loss improved from 1.95257 to 1.93037, saving model to C:/Users/hui/Desktop/AI/training_checkpoints_3/best-weights-on-32-with-1.9304.hdf5\n",
      "Epoch 33/120\n",
      "25862/25862 [==============================] - 23s 907us/step - loss: 1.9106\n",
      "\n",
      "Epoch 00033: loss improved from 1.93037 to 1.91056, saving model to C:/Users/hui/Desktop/AI/training_checkpoints_3/best-weights-on-33-with-1.9106.hdf5\n",
      "Epoch 34/120\n",
      "25862/25862 [==============================] - 24s 917us/step - loss: 1.8936\n",
      "\n",
      "Epoch 00034: loss improved from 1.91056 to 1.89365, saving model to C:/Users/hui/Desktop/AI/training_checkpoints_3/best-weights-on-34-with-1.8936.hdf5\n",
      "Epoch 35/120\n",
      "25862/25862 [==============================] - 23s 891us/step - loss: 1.8800\n",
      "\n",
      "Epoch 00035: loss improved from 1.89365 to 1.87996, saving model to C:/Users/hui/Desktop/AI/training_checkpoints_3/best-weights-on-35-with-1.8800.hdf5\n",
      "Epoch 36/120\n",
      "25862/25862 [==============================] - 24s 918us/step - loss: 1.8723\n",
      "\n",
      "Epoch 00036: loss improved from 1.87996 to 1.87234, saving model to C:/Users/hui/Desktop/AI/training_checkpoints_3/best-weights-on-36-with-1.8723.hdf5\n",
      "Epoch 37/120\n",
      "25862/25862 [==============================] - 23s 904us/step - loss: 1.8501\n",
      "\n",
      "Epoch 00037: loss improved from 1.87234 to 1.85014, saving model to C:/Users/hui/Desktop/AI/training_checkpoints_3/best-weights-on-37-with-1.8501.hdf5\n",
      "Epoch 38/120\n",
      "25862/25862 [==============================] - 23s 892us/step - loss: 1.8382\n",
      "\n",
      "Epoch 00038: loss improved from 1.85014 to 1.83821, saving model to C:/Users/hui/Desktop/AI/training_checkpoints_3/best-weights-on-38-with-1.8382.hdf5\n",
      "Epoch 39/120\n",
      "25862/25862 [==============================] - 23s 891us/step - loss: 1.8226\n",
      "\n",
      "Epoch 00039: loss improved from 1.83821 to 1.82256, saving model to C:/Users/hui/Desktop/AI/training_checkpoints_3/best-weights-on-39-with-1.8226.hdf5\n",
      "Epoch 40/120\n",
      "25862/25862 [==============================] - 23s 886us/step - loss: 1.7978\n",
      "\n",
      "Epoch 00040: loss improved from 1.82256 to 1.79782, saving model to C:/Users/hui/Desktop/AI/training_checkpoints_3/best-weights-on-40-with-1.7978.hdf5\n",
      "Epoch 41/120\n",
      "25862/25862 [==============================] - 23s 894us/step - loss: 1.7867\n",
      "\n",
      "Epoch 00041: loss improved from 1.79782 to 1.78671, saving model to C:/Users/hui/Desktop/AI/training_checkpoints_3/best-weights-on-41-with-1.7867.hdf5\n",
      "Epoch 42/120\n",
      "25862/25862 [==============================] - 23s 885us/step - loss: 1.7678\n",
      "\n",
      "Epoch 00042: loss improved from 1.78671 to 1.76781, saving model to C:/Users/hui/Desktop/AI/training_checkpoints_3/best-weights-on-42-with-1.7678.hdf5\n",
      "Epoch 43/120\n",
      "25862/25862 [==============================] - 23s 901us/step - loss: 1.7502\n",
      "\n",
      "Epoch 00043: loss improved from 1.76781 to 1.75023, saving model to C:/Users/hui/Desktop/AI/training_checkpoints_3/best-weights-on-43-with-1.7502.hdf5\n",
      "Epoch 44/120\n",
      "25862/25862 [==============================] - 23s 896us/step - loss: 1.7291\n",
      "\n",
      "Epoch 00044: loss improved from 1.75023 to 1.72912, saving model to C:/Users/hui/Desktop/AI/training_checkpoints_3/best-weights-on-44-with-1.7291.hdf5\n",
      "Epoch 45/120\n",
      "25862/25862 [==============================] - 24s 935us/step - loss: 1.7202\n",
      "\n",
      "Epoch 00045: loss improved from 1.72912 to 1.72018, saving model to C:/Users/hui/Desktop/AI/training_checkpoints_3/best-weights-on-45-with-1.7202.hdf5\n",
      "Epoch 46/120\n",
      "25862/25862 [==============================] - 23s 892us/step - loss: 1.7105\n",
      "\n",
      "Epoch 00046: loss improved from 1.72018 to 1.71054, saving model to C:/Users/hui/Desktop/AI/training_checkpoints_3/best-weights-on-46-with-1.7105.hdf5\n",
      "Epoch 47/120\n",
      "25862/25862 [==============================] - 24s 911us/step - loss: 1.6872\n",
      "\n",
      "Epoch 00047: loss improved from 1.71054 to 1.68717, saving model to C:/Users/hui/Desktop/AI/training_checkpoints_3/best-weights-on-47-with-1.6872.hdf5\n",
      "Epoch 48/120\n",
      "25862/25862 [==============================] - 26s 1ms/step - loss: 1.6664\n",
      "\n",
      "Epoch 00048: loss improved from 1.68717 to 1.66636, saving model to C:/Users/hui/Desktop/AI/training_checkpoints_3/best-weights-on-48-with-1.6664.hdf5\n",
      "Epoch 49/120\n",
      "25862/25862 [==============================] - 24s 944us/step - loss: 1.6511\n",
      "\n",
      "Epoch 00049: loss improved from 1.66636 to 1.65107, saving model to C:/Users/hui/Desktop/AI/training_checkpoints_3/best-weights-on-49-with-1.6511.hdf5\n",
      "Epoch 50/120\n",
      "25862/25862 [==============================] - 24s 938us/step - loss: 1.6314\n",
      "\n",
      "Epoch 00050: loss improved from 1.65107 to 1.63144, saving model to C:/Users/hui/Desktop/AI/training_checkpoints_3/best-weights-on-50-with-1.6314.hdf5\n",
      "Epoch 51/120\n",
      "25862/25862 [==============================] - 24s 933us/step - loss: 1.6158\n",
      "\n",
      "Epoch 00051: loss improved from 1.63144 to 1.61582, saving model to C:/Users/hui/Desktop/AI/training_checkpoints_3/best-weights-on-51-with-1.6158.hdf5\n",
      "Epoch 52/120\n",
      "25862/25862 [==============================] - 25s 970us/step - loss: 1.5989\n",
      "\n",
      "Epoch 00052: loss improved from 1.61582 to 1.59891, saving model to C:/Users/hui/Desktop/AI/training_checkpoints_3/best-weights-on-52-with-1.5989.hdf5\n",
      "Epoch 53/120\n",
      "25862/25862 [==============================] - 25s 950us/step - loss: 1.5748\n",
      "\n",
      "Epoch 00053: loss improved from 1.59891 to 1.57482, saving model to C:/Users/hui/Desktop/AI/training_checkpoints_3/best-weights-on-53-with-1.5748.hdf5\n",
      "Epoch 54/120\n",
      "25862/25862 [==============================] - 24s 936us/step - loss: 1.5653\n",
      "\n",
      "Epoch 00054: loss improved from 1.57482 to 1.56532, saving model to C:/Users/hui/Desktop/AI/training_checkpoints_3/best-weights-on-54-with-1.5653.hdf5\n",
      "Epoch 55/120\n",
      "25862/25862 [==============================] - 24s 913us/step - loss: 1.5381\n",
      "\n",
      "Epoch 00055: loss improved from 1.56532 to 1.53809, saving model to C:/Users/hui/Desktop/AI/training_checkpoints_3/best-weights-on-55-with-1.5381.hdf5\n",
      "Epoch 56/120\n",
      "25862/25862 [==============================] - 24s 931us/step - loss: 1.5284\n",
      "\n",
      "Epoch 00056: loss improved from 1.53809 to 1.52839, saving model to C:/Users/hui/Desktop/AI/training_checkpoints_3/best-weights-on-56-with-1.5284.hdf5\n",
      "Epoch 57/120\n",
      "25862/25862 [==============================] - 24s 931us/step - loss: 1.4978\n",
      "\n",
      "Epoch 00057: loss improved from 1.52839 to 1.49775, saving model to C:/Users/hui/Desktop/AI/training_checkpoints_3/best-weights-on-57-with-1.4978.hdf5\n",
      "Epoch 58/120\n",
      "25862/25862 [==============================] - 24s 919us/step - loss: 1.4987\n",
      "\n",
      "Epoch 00058: loss did not improve from 1.49775\n",
      "Epoch 59/120\n",
      "25862/25862 [==============================] - 23s 908us/step - loss: 1.4887\n",
      "\n",
      "Epoch 00059: loss improved from 1.49775 to 1.48874, saving model to C:/Users/hui/Desktop/AI/training_checkpoints_3/best-weights-on-59-with-1.4887.hdf5\n",
      "Epoch 60/120\n",
      "25862/25862 [==============================] - 23s 898us/step - loss: 1.4550\n",
      "\n",
      "Epoch 00060: loss improved from 1.48874 to 1.45496, saving model to C:/Users/hui/Desktop/AI/training_checkpoints_3/best-weights-on-60-with-1.4550.hdf5\n",
      "Epoch 61/120\n",
      "25862/25862 [==============================] - 23s 895us/step - loss: 1.4417\n",
      "\n",
      "Epoch 00061: loss improved from 1.45496 to 1.44172, saving model to C:/Users/hui/Desktop/AI/training_checkpoints_3/best-weights-on-61-with-1.4417.hdf5\n",
      "Epoch 62/120\n",
      "25862/25862 [==============================] - 24s 925us/step - loss: 1.4237\n",
      "\n",
      "Epoch 00062: loss improved from 1.44172 to 1.42365, saving model to C:/Users/hui/Desktop/AI/training_checkpoints_3/best-weights-on-62-with-1.4237.hdf5\n",
      "Epoch 63/120\n",
      "25862/25862 [==============================] - 24s 911us/step - loss: 1.4033\n",
      "\n",
      "Epoch 00063: loss improved from 1.42365 to 1.40335, saving model to C:/Users/hui/Desktop/AI/training_checkpoints_3/best-weights-on-63-with-1.4033.hdf5\n",
      "Epoch 64/120\n",
      "25862/25862 [==============================] - 24s 909us/step - loss: 1.3916\n",
      "\n",
      "Epoch 00064: loss improved from 1.40335 to 1.39163, saving model to C:/Users/hui/Desktop/AI/training_checkpoints_3/best-weights-on-64-with-1.3916.hdf5\n",
      "Epoch 65/120\n",
      "25862/25862 [==============================] - 23s 898us/step - loss: 1.3846\n"
     ]
    },
    {
     "name": "stdout",
     "output_type": "stream",
     "text": [
      "\n",
      "Epoch 00065: loss improved from 1.39163 to 1.38456, saving model to C:/Users/hui/Desktop/AI/training_checkpoints_3/best-weights-on-65-with-1.3846.hdf5\n",
      "Epoch 66/120\n",
      "25862/25862 [==============================] - 23s 888us/step - loss: 1.3484\n",
      "\n",
      "Epoch 00066: loss improved from 1.38456 to 1.34843, saving model to C:/Users/hui/Desktop/AI/training_checkpoints_3/best-weights-on-66-with-1.3484.hdf5\n",
      "Epoch 67/120\n",
      "25862/25862 [==============================] - 23s 893us/step - loss: 1.3443\n",
      "\n",
      "Epoch 00067: loss improved from 1.34843 to 1.34432, saving model to C:/Users/hui/Desktop/AI/training_checkpoints_3/best-weights-on-67-with-1.3443.hdf5\n",
      "Epoch 68/120\n",
      "25862/25862 [==============================] - 23s 893us/step - loss: 1.3087\n",
      "\n",
      "Epoch 00068: loss improved from 1.34432 to 1.30872, saving model to C:/Users/hui/Desktop/AI/training_checkpoints_3/best-weights-on-68-with-1.3087.hdf5\n",
      "Epoch 69/120\n",
      "25862/25862 [==============================] - 23s 894us/step - loss: 1.3061\n",
      "\n",
      "Epoch 00069: loss improved from 1.30872 to 1.30610, saving model to C:/Users/hui/Desktop/AI/training_checkpoints_3/best-weights-on-69-with-1.3061.hdf5\n",
      "Epoch 70/120\n",
      "25862/25862 [==============================] - 24s 923us/step - loss: 1.3007\n",
      "\n",
      "Epoch 00070: loss improved from 1.30610 to 1.30065, saving model to C:/Users/hui/Desktop/AI/training_checkpoints_3/best-weights-on-70-with-1.3007.hdf5\n",
      "Epoch 71/120\n",
      "25862/25862 [==============================] - 24s 917us/step - loss: 1.2686\n",
      "\n",
      "Epoch 00071: loss improved from 1.30065 to 1.26863, saving model to C:/Users/hui/Desktop/AI/training_checkpoints_3/best-weights-on-71-with-1.2686.hdf5\n",
      "Epoch 72/120\n",
      "25862/25862 [==============================] - 23s 904us/step - loss: 1.2622\n",
      "\n",
      "Epoch 00072: loss improved from 1.26863 to 1.26216, saving model to C:/Users/hui/Desktop/AI/training_checkpoints_3/best-weights-on-72-with-1.2622.hdf5\n",
      "Epoch 73/120\n",
      "25862/25862 [==============================] - 23s 890us/step - loss: 1.2205\n",
      "\n",
      "Epoch 00073: loss improved from 1.26216 to 1.22054, saving model to C:/Users/hui/Desktop/AI/training_checkpoints_3/best-weights-on-73-with-1.2205.hdf5\n",
      "Epoch 74/120\n",
      "25862/25862 [==============================] - 24s 944us/step - loss: 1.2258\n",
      "\n",
      "Epoch 00074: loss did not improve from 1.22054\n",
      "Epoch 75/120\n",
      "25862/25862 [==============================] - 23s 886us/step - loss: 1.1967\n",
      "\n",
      "Epoch 00075: loss improved from 1.22054 to 1.19673, saving model to C:/Users/hui/Desktop/AI/training_checkpoints_3/best-weights-on-75-with-1.1967.hdf5\n",
      "Epoch 76/120\n",
      "25862/25862 [==============================] - 23s 894us/step - loss: 1.1680\n",
      "\n",
      "Epoch 00076: loss improved from 1.19673 to 1.16800, saving model to C:/Users/hui/Desktop/AI/training_checkpoints_3/best-weights-on-76-with-1.1680.hdf5\n",
      "Epoch 77/120\n",
      "25862/25862 [==============================] - 23s 901us/step - loss: 1.2066\n",
      "\n",
      "Epoch 00077: loss did not improve from 1.16800\n",
      "Epoch 78/120\n",
      "25862/25862 [==============================] - 23s 896us/step - loss: 1.1602\n",
      "\n",
      "Epoch 00078: loss improved from 1.16800 to 1.16018, saving model to C:/Users/hui/Desktop/AI/training_checkpoints_3/best-weights-on-78-with-1.1602.hdf5\n",
      "Epoch 79/120\n",
      "25862/25862 [==============================] - 23s 901us/step - loss: 1.1519\n",
      "\n",
      "Epoch 00079: loss improved from 1.16018 to 1.15186, saving model to C:/Users/hui/Desktop/AI/training_checkpoints_3/best-weights-on-79-with-1.1519.hdf5\n",
      "Epoch 80/120\n",
      "25862/25862 [==============================] - 23s 902us/step - loss: 1.1137\n",
      "\n",
      "Epoch 00080: loss improved from 1.15186 to 1.11374, saving model to C:/Users/hui/Desktop/AI/training_checkpoints_3/best-weights-on-80-with-1.1137.hdf5\n",
      "Epoch 81/120\n",
      "25862/25862 [==============================] - 23s 887us/step - loss: 1.1178\n",
      "\n",
      "Epoch 00081: loss did not improve from 1.11374\n",
      "Epoch 82/120\n",
      "25862/25862 [==============================] - 23s 902us/step - loss: 1.0919\n",
      "\n",
      "Epoch 00082: loss improved from 1.11374 to 1.09193, saving model to C:/Users/hui/Desktop/AI/training_checkpoints_3/best-weights-on-82-with-1.0919.hdf5\n",
      "Epoch 83/120\n",
      "25862/25862 [==============================] - 23s 904us/step - loss: 1.0904\n",
      "\n",
      "Epoch 00083: loss improved from 1.09193 to 1.09042, saving model to C:/Users/hui/Desktop/AI/training_checkpoints_3/best-weights-on-83-with-1.0904.hdf5\n",
      "Epoch 84/120\n",
      "25862/25862 [==============================] - 27s 1ms/step - loss: 1.0424\n",
      "\n",
      "Epoch 00084: loss improved from 1.09042 to 1.04244, saving model to C:/Users/hui/Desktop/AI/training_checkpoints_3/best-weights-on-84-with-1.0424.hdf5\n",
      "Epoch 85/120\n",
      "25862/25862 [==============================] - 26s 1ms/step - loss: 1.0386\n",
      "\n",
      "Epoch 00085: loss improved from 1.04244 to 1.03861, saving model to C:/Users/hui/Desktop/AI/training_checkpoints_3/best-weights-on-85-with-1.0386.hdf5\n",
      "Epoch 86/120\n",
      "25862/25862 [==============================] - 26s 1ms/step - loss: 1.0289\n",
      "\n",
      "Epoch 00086: loss improved from 1.03861 to 1.02886, saving model to C:/Users/hui/Desktop/AI/training_checkpoints_3/best-weights-on-86-with-1.0289.hdf5\n",
      "Epoch 87/120\n",
      "25862/25862 [==============================] - 25s 972us/step - loss: 1.0348\n",
      "\n",
      "Epoch 00087: loss did not improve from 1.02886\n",
      "Epoch 88/120\n",
      "25862/25862 [==============================] - 26s 1ms/step - loss: 1.0075\n",
      "\n",
      "Epoch 00088: loss improved from 1.02886 to 1.00754, saving model to C:/Users/hui/Desktop/AI/training_checkpoints_3/best-weights-on-88-with-1.0075.hdf5\n",
      "Epoch 89/120\n",
      "25862/25862 [==============================] - 23s 891us/step - loss: 0.9890\n",
      "\n",
      "Epoch 00089: loss improved from 1.00754 to 0.98898, saving model to C:/Users/hui/Desktop/AI/training_checkpoints_3/best-weights-on-89-with-0.9890.hdf5\n",
      "Epoch 90/120\n",
      "25862/25862 [==============================] - 24s 912us/step - loss: 0.9786\n",
      "\n",
      "Epoch 00090: loss improved from 0.98898 to 0.97861, saving model to C:/Users/hui/Desktop/AI/training_checkpoints_3/best-weights-on-90-with-0.9786.hdf5\n",
      "Epoch 91/120\n",
      "25862/25862 [==============================] - 24s 914us/step - loss: 0.9983\n",
      "\n",
      "Epoch 00091: loss did not improve from 0.97861\n",
      "Epoch 92/120\n",
      "25862/25862 [==============================] - 23s 887us/step - loss: 0.9701\n",
      "\n",
      "Epoch 00092: loss improved from 0.97861 to 0.97010, saving model to C:/Users/hui/Desktop/AI/training_checkpoints_3/best-weights-on-92-with-0.9701.hdf5\n",
      "Epoch 93/120\n",
      "25862/25862 [==============================] - 24s 909us/step - loss: 0.9333\n",
      "\n",
      "Epoch 00093: loss improved from 0.97010 to 0.93329, saving model to C:/Users/hui/Desktop/AI/training_checkpoints_3/best-weights-on-93-with-0.9333.hdf5\n",
      "Epoch 94/120\n",
      "25862/25862 [==============================] - 24s 942us/step - loss: 0.9066\n",
      "\n",
      "Epoch 00094: loss improved from 0.93329 to 0.90658, saving model to C:/Users/hui/Desktop/AI/training_checkpoints_3/best-weights-on-94-with-0.9066.hdf5\n",
      "Epoch 95/120\n",
      "25862/25862 [==============================] - 23s 908us/step - loss: 0.9226\n",
      "\n",
      "Epoch 00095: loss did not improve from 0.90658\n",
      "Epoch 96/120\n",
      "25862/25862 [==============================] - 24s 911us/step - loss: 0.9199\n",
      "\n",
      "Epoch 00096: loss did not improve from 0.90658\n",
      "Epoch 97/120\n",
      "25862/25862 [==============================] - 23s 906us/step - loss: 0.9118\n",
      "\n",
      "Epoch 00097: loss did not improve from 0.90658\n",
      "Epoch 98/120\n",
      "25862/25862 [==============================] - 24s 917us/step - loss: 0.9957\n",
      "\n",
      "Epoch 00098: loss did not improve from 0.90658\n",
      "Epoch 99/120\n",
      "25862/25862 [==============================] - 24s 929us/step - loss: 0.8753\n",
      "\n",
      "Epoch 00099: loss improved from 0.90658 to 0.87531, saving model to C:/Users/hui/Desktop/AI/training_checkpoints_3/best-weights-on-99-with-0.8753.hdf5\n",
      "Epoch 100/120\n",
      "25862/25862 [==============================] - 23s 898us/step - loss: 0.8546\n",
      "\n",
      "Epoch 00100: loss improved from 0.87531 to 0.85458, saving model to C:/Users/hui/Desktop/AI/training_checkpoints_3/best-weights-on-100-with-0.8546.hdf5\n",
      "Epoch 101/120\n",
      "25862/25862 [==============================] - 23s 897us/step - loss: 0.8523\n",
      "\n",
      "Epoch 00101: loss improved from 0.85458 to 0.85226, saving model to C:/Users/hui/Desktop/AI/training_checkpoints_3/best-weights-on-101-with-0.8523.hdf5\n",
      "Epoch 102/120\n",
      "25862/25862 [==============================] - 23s 893us/step - loss: 0.8537\n",
      "\n",
      "Epoch 00102: loss did not improve from 0.85226\n",
      "Epoch 103/120\n",
      "25862/25862 [==============================] - 23s 906us/step - loss: 0.8626\n",
      "\n",
      "Epoch 00103: loss did not improve from 0.85226\n",
      "Epoch 104/120\n"
     ]
    },
    {
     "name": "stdout",
     "output_type": "stream",
     "text": [
      "25862/25862 [==============================] - 23s 891us/step - loss: 0.8415\n",
      "\n",
      "Epoch 00104: loss improved from 0.85226 to 0.84147, saving model to C:/Users/hui/Desktop/AI/training_checkpoints_3/best-weights-on-104-with-0.8415.hdf5\n",
      "Epoch 105/120\n",
      "25862/25862 [==============================] - 23s 891us/step - loss: 0.8394\n",
      "\n",
      "Epoch 00105: loss improved from 0.84147 to 0.83938, saving model to C:/Users/hui/Desktop/AI/training_checkpoints_3/best-weights-on-105-with-0.8394.hdf5\n",
      "Epoch 106/120\n",
      "25862/25862 [==============================] - 23s 894us/step - loss: 0.8279\n",
      "\n",
      "Epoch 00106: loss improved from 0.83938 to 0.82786, saving model to C:/Users/hui/Desktop/AI/training_checkpoints_3/best-weights-on-106-with-0.8279.hdf5\n",
      "Epoch 107/120\n",
      "25862/25862 [==============================] - 23s 892us/step - loss: 0.7859\n",
      "\n",
      "Epoch 00107: loss improved from 0.82786 to 0.78593, saving model to C:/Users/hui/Desktop/AI/training_checkpoints_3/best-weights-on-107-with-0.7859.hdf5\n",
      "Epoch 108/120\n",
      "25862/25862 [==============================] - 23s 898us/step - loss: 0.8185\n",
      "\n",
      "Epoch 00108: loss did not improve from 0.78593\n",
      "Epoch 109/120\n",
      "25862/25862 [==============================] - 23s 895us/step - loss: 0.8857\n",
      "\n",
      "Epoch 00109: loss did not improve from 0.78593\n",
      "Epoch 110/120\n",
      "25862/25862 [==============================] - 23s 885us/step - loss: 0.8666\n",
      "\n",
      "Epoch 00110: loss did not improve from 0.78593\n",
      "Epoch 111/120\n",
      "25862/25862 [==============================] - 22s 866us/step - loss: 0.7606\n",
      "\n",
      "Epoch 00111: loss improved from 0.78593 to 0.76060, saving model to C:/Users/hui/Desktop/AI/training_checkpoints_3/best-weights-on-111-with-0.7606.hdf5\n",
      "Epoch 112/120\n",
      "25862/25862 [==============================] - 22s 870us/step - loss: 0.7498\n",
      "\n",
      "Epoch 00112: loss improved from 0.76060 to 0.74981, saving model to C:/Users/hui/Desktop/AI/training_checkpoints_3/best-weights-on-112-with-0.7498.hdf5\n",
      "Epoch 113/120\n",
      "25862/25862 [==============================] - 23s 903us/step - loss: 0.7426\n",
      "\n",
      "Epoch 00113: loss improved from 0.74981 to 0.74259, saving model to C:/Users/hui/Desktop/AI/training_checkpoints_3/best-weights-on-113-with-0.7426.hdf5\n",
      "Epoch 114/120\n",
      "25862/25862 [==============================] - 23s 875us/step - loss: 0.7409\n",
      "\n",
      "Epoch 00114: loss improved from 0.74259 to 0.74087, saving model to C:/Users/hui/Desktop/AI/training_checkpoints_3/best-weights-on-114-with-0.7409.hdf5\n",
      "Epoch 115/120\n",
      "25862/25862 [==============================] - 22s 869us/step - loss: 0.7494\n",
      "\n",
      "Epoch 00115: loss did not improve from 0.74087\n",
      "Epoch 116/120\n",
      "25862/25862 [==============================] - 23s 872us/step - loss: 0.7253\n",
      "\n",
      "Epoch 00116: loss improved from 0.74087 to 0.72532, saving model to C:/Users/hui/Desktop/AI/training_checkpoints_3/best-weights-on-116-with-0.7253.hdf5\n",
      "Epoch 117/120\n",
      "25862/25862 [==============================] - 23s 874us/step - loss: 0.7056\n",
      "\n",
      "Epoch 00117: loss improved from 0.72532 to 0.70563, saving model to C:/Users/hui/Desktop/AI/training_checkpoints_3/best-weights-on-117-with-0.7056.hdf5\n",
      "Epoch 118/120\n",
      "25862/25862 [==============================] - 23s 878us/step - loss: 0.6828\n",
      "\n",
      "Epoch 00118: loss improved from 0.70563 to 0.68279, saving model to C:/Users/hui/Desktop/AI/training_checkpoints_3/best-weights-on-118-with-0.6828.hdf5\n",
      "Epoch 119/120\n",
      "25862/25862 [==============================] - 23s 878us/step - loss: 0.7632\n",
      "\n",
      "Epoch 00119: loss did not improve from 0.68279\n",
      "Epoch 120/120\n",
      "25862/25862 [==============================] - 23s 882us/step - loss: 0.7637\n",
      "\n",
      "Epoch 00120: loss did not improve from 0.68279\n"
     ]
    }
   ],
   "source": [
    "K.clear_session()\n",
    "option = options[1]\n",
    "\n",
    "model2 = building_model(vocab_size = vocab_size, batch_size = batch_size, maxlen = maxlen)\n",
    "model2.summary()\n",
    "\n",
    "model2.compile(loss='categorical_crossentropy', optimizer = 'adam')\n",
    "\n",
    "checkpoint_dir = 'C:/Users/hui/Desktop/AI/training_checkpoints_3/'\n",
    "filepath=\"C:/Users/hui/Desktop/AI/training_checkpoints_3/best-weights-on-{epoch:02d}-with-{loss:.4f}.hdf5\"\n",
    "\n",
    "checkpoint_callback = ModelCheckpoint(filepath, monitor = 'loss', verbose = 1, save_best_only = True, mode = 'min')\n",
    "\n",
    "hist2 = model2.fit(x, y,\n",
    "              batch_size = batch_size,\n",
    "              epochs = option['epochs'],\n",
    "              callbacks = [checkpoint_callback])"
   ]
  },
  {
   "cell_type": "code",
   "execution_count": 42,
   "metadata": {},
   "outputs": [],
   "source": [
    "model2.load_weights('C:/Users/hui/Desktop/AI/training_checkpoints_3/best-weights-on-118-with-0.6828.hdf5')"
   ]
  },
  {
   "cell_type": "code",
   "execution_count": 43,
   "metadata": {},
   "outputs": [
    {
     "name": "stdout",
     "output_type": "stream",
     "text": [
      "Model: \"sequential_1\"\n",
      "_________________________________________________________________\n",
      "Layer (type)                 Output Shape              Param #   \n",
      "=================================================================\n",
      "lstm_1 (LSTM)                (None, 128)               96256     \n",
      "_________________________________________________________________\n",
      "dropout_1 (Dropout)          (None, 128)               0         \n",
      "_________________________________________________________________\n",
      "dense_1 (Dense)              (None, 59)                7611      \n",
      "_________________________________________________________________\n",
      "activation_1 (Activation)    (None, 59)                0         \n",
      "=================================================================\n",
      "Total params: 103,867\n",
      "Trainable params: 103,867\n",
      "Non-trainable params: 0\n",
      "_________________________________________________________________\n"
     ]
    }
   ],
   "source": [
    "model2.compile(loss = 'categorical_crossentropy', optimizer = 'adam')\n",
    "model2.summary()"
   ]
  },
  {
   "cell_type": "code",
   "execution_count": 44,
   "metadata": {
    "scrolled": false
   },
   "outputs": [
    {
     "name": "stdout",
     "output_type": "stream",
     "text": [
      " земле. при свете луны я смотрел на его \n",
      "оданаков распотаться, торово. мен жичуго нечам, что она она все даваю себя, и вы слешим, что калечец.\n",
      " - ис1- спросте!\n",
      " - во - сказал маень, - поромол был какочик, заазам маленький принц рупываю, и ублисит с бском ме бые, чествее, эти отповаю, и свотачал какаю либу усталиник полэтол тот гобя, и дажи ущакол ни уго лишел посоветиразно: чно о виже у пялас. у потуспе. вся подилать ях..- скажал она щилто, как пробторей сереслия, смоллящих. - что это ка зезным нечус, ты уткажелся.\n",
      " - привум лисчет бымо дебя, кот полушь, де в ризоват водрох, ески я послы но мня та заход у сем сахдется, залочая мнельков. но чтобы ясле либы пихвету емлы будет заствалсть?\n",
      " - не, -ткого накогда ну мужу.\n",
      " - в дохжелся у мая заков,ть глафма..\n",
      " - пришимал?\n",
      " - нечествен..\n",
      " - да деже\", - одномажил маленький принц был вед, пкищем, поваление солочао. это свошил ю слобия пранида малеський принц. - сказал он корочил нечим.\n",
      " - что было у какого линиве тводал. они даже ни говорму, - возпринллся был том покланеть загодансаказале:\n",
      " - точлочоон.\n",
      " - остобно, порослион дву маютнубу на вка прелешил...\n",
      " он наки полочий прощечего на олобы проста онеть делна. по-омо, как пробедть емо прислуть сказал себя, и они задеть. вак он иись люби, плинет смему в овиоправать зарреда.\n",
      " - ян. оннажин: в будем я ущал чело кказальесь пронечно, на он будешно. на зебуднои все все спразулае:\n",
      " - сказали...\n",
      " - это проко де хоел, он потему, онил покомол как я как да тих мне поковогваюл ест, что она у все просто мане киз. вое ходя оскалатья..\n",
      " -\n",
      "None\n"
     ]
    }
   ],
   "source": [
    "start_index = random.randint(0, len(text) - maxlen - 1)\n",
    "print(generate_text(model2, start_string = text[start_index: start_index + maxlen], gen_length = gen_length))"
   ]
  },
  {
   "cell_type": "code",
   "execution_count": 45,
   "metadata": {},
   "outputs": [
    {
     "name": "stdout",
     "output_type": "stream",
     "text": [
      "Потери на данных\n",
      "loss: 0.505\n"
     ]
    }
   ],
   "source": [
    "test_acc = model2.evaluate(x, y, verbose = 2)\n",
    "print(\"Потери на данных\")\n",
    "print(\"%s: %.3f\" % (model2.metrics_names[0], test_acc)) # loss (потери)"
   ]
  },
  {
   "cell_type": "code",
   "execution_count": 46,
   "metadata": {},
   "outputs": [
    {
     "data": {
      "image/png": "[encoded data removed]",
      "text/plain": [
       "<Figure size 432x288 with 1 Axes>"
      ]
     },
     "metadata": {
      "needs_background": "light"
     },
     "output_type": "display_data"
    }
   ],
   "source": [
    "plt.plot(hist2.history['loss'])\n",
    "plt.title('Model loss')\n",
    "plt.ylabel('Loss')\n",
    "plt.xlabel('Epoch')\n",
    "plt.legend(['Train'], loc = 'upper left')\n",
    "plt.show()"
   ]
  },
  {
   "cell_type": "markdown",
   "metadata": {},
   "source": [
    "Вывод: заметно улучшение по потерям, значение потерь = 0.505, что лучше значения потерь у RNN. Прослеживается уже большее количество осмысленных слов, но большинство словоформ лишь приближенно походят на настоящие русские слова."
   ]
  },
  {
   "cell_type": "markdown",
   "metadata": {},
   "source": [
    "Теперь приступим к двухслойной LSTM. Действия те же самые, изменятся лишь результаты, по которым я сделаю вывод."
   ]
  },
  {
   "cell_type": "code",
   "execution_count": 49,
   "metadata": {},
   "outputs": [
    {
     "name": "stdout",
     "output_type": "stream",
     "text": [
      "Model: \"sequential_1\"\n",
      "_________________________________________________________________\n",
      "Layer (type)                 Output Shape              Param #   \n",
      "=================================================================\n",
      "lstm_1 (LSTM)                (None, 40, 256)           323584    \n",
      "_________________________________________________________________\n",
      "dropout_1 (Dropout)          (None, 40, 256)           0         \n",
      "_________________________________________________________________\n",
      "lstm_2 (LSTM)                (None, 256)               525312    \n",
      "_________________________________________________________________\n",
      "dropout_2 (Dropout)          (None, 256)               0         \n",
      "_________________________________________________________________\n",
      "dense_1 (Dense)              (None, 59)                15163     \n",
      "_________________________________________________________________\n",
      "activation_1 (Activation)    (None, 59)                0         \n",
      "=================================================================\n",
      "Total params: 864,059\n",
      "Trainable params: 864,059\n",
      "Non-trainable params: 0\n",
      "_________________________________________________________________\n",
      "Epoch 1/30\n",
      "25862/25862 [==============================] - 184s 7ms/step - loss: 3.2881\n",
      "\n",
      "Epoch 00001: loss improved from inf to 3.28806, saving model to C:/Users/hui/Desktop/AI/training_checkpoints_4/best-weights-on-01-with-3.2881.hdf5\n",
      "Epoch 2/30\n",
      "25862/25862 [==============================] - 170s 7ms/step - loss: 3.1035\n",
      "\n",
      "Epoch 00002: loss improved from 3.28806 to 3.10350, saving model to C:/Users/hui/Desktop/AI/training_checkpoints_4/best-weights-on-02-with-3.1035.hdf5\n",
      "Epoch 3/30\n",
      "25862/25862 [==============================] - 170s 7ms/step - loss: 2.7772\n",
      "\n",
      "Epoch 00003: loss improved from 3.10350 to 2.77724, saving model to C:/Users/hui/Desktop/AI/training_checkpoints_4/best-weights-on-03-with-2.7772.hdf5\n",
      "Epoch 4/30\n",
      "25862/25862 [==============================] - 211s 8ms/step - loss: 2.5672\n",
      "\n",
      "Epoch 00004: loss improved from 2.77724 to 2.56720, saving model to C:/Users/hui/Desktop/AI/training_checkpoints_4/best-weights-on-04-with-2.5672.hdf5\n",
      "Epoch 5/30\n",
      "25862/25862 [==============================] - 201s 8ms/step - loss: 2.4537\n",
      "\n",
      "Epoch 00005: loss improved from 2.56720 to 2.45373, saving model to C:/Users/hui/Desktop/AI/training_checkpoints_4/best-weights-on-05-with-2.4537.hdf5\n",
      "Epoch 6/30\n",
      "25862/25862 [==============================] - 242s 9ms/step - loss: 2.3720\n",
      "\n",
      "Epoch 00006: loss improved from 2.45373 to 2.37200, saving model to C:/Users/hui/Desktop/AI/training_checkpoints_4/best-weights-on-06-with-2.3720.hdf5\n",
      "Epoch 7/30\n",
      "25862/25862 [==============================] - 213s 8ms/step - loss: 2.2960\n",
      "\n",
      "Epoch 00007: loss improved from 2.37200 to 2.29601, saving model to C:/Users/hui/Desktop/AI/training_checkpoints_4/best-weights-on-07-with-2.2960.hdf5\n",
      "Epoch 8/30\n",
      "25862/25862 [==============================] - 192s 7ms/step - loss: 2.2342\n",
      "\n",
      "Epoch 00008: loss improved from 2.29601 to 2.23421, saving model to C:/Users/hui/Desktop/AI/training_checkpoints_4/best-weights-on-08-with-2.2342.hdf5\n",
      "Epoch 9/30\n",
      "25862/25862 [==============================] - 183s 7ms/step - loss: 2.1758\n",
      "\n",
      "Epoch 00009: loss improved from 2.23421 to 2.17584, saving model to C:/Users/hui/Desktop/AI/training_checkpoints_4/best-weights-on-09-with-2.1758.hdf5\n",
      "Epoch 10/30\n",
      "25862/25862 [==============================] - 176s 7ms/step - loss: 2.1209\n",
      "\n",
      "Epoch 00010: loss improved from 2.17584 to 2.12091, saving model to C:/Users/hui/Desktop/AI/training_checkpoints_4/best-weights-on-10-with-2.1209.hdf5\n",
      "Epoch 11/30\n",
      "25862/25862 [==============================] - 176s 7ms/step - loss: 2.0794\n",
      "\n",
      "Epoch 00011: loss improved from 2.12091 to 2.07935, saving model to C:/Users/hui/Desktop/AI/training_checkpoints_4/best-weights-on-11-with-2.0794.hdf5\n",
      "Epoch 12/30\n",
      "25862/25862 [==============================] - 186s 7ms/step - loss: 2.0152\n",
      "\n",
      "Epoch 00012: loss improved from 2.07935 to 2.01518, saving model to C:/Users/hui/Desktop/AI/training_checkpoints_4/best-weights-on-12-with-2.0152.hdf5\n",
      "Epoch 13/30\n",
      "25862/25862 [==============================] - 178s 7ms/step - loss: 1.9861\n",
      "\n",
      "Epoch 00013: loss improved from 2.01518 to 1.98612, saving model to C:/Users/hui/Desktop/AI/training_checkpoints_4/best-weights-on-13-with-1.9861.hdf5\n",
      "Epoch 14/30\n",
      "25862/25862 [==============================] - 176s 7ms/step - loss: 1.9311\n",
      "\n",
      "Epoch 00014: loss improved from 1.98612 to 1.93105, saving model to C:/Users/hui/Desktop/AI/training_checkpoints_4/best-weights-on-14-with-1.9311.hdf5\n",
      "Epoch 15/30\n",
      "25862/25862 [==============================] - 175s 7ms/step - loss: 1.8783\n",
      "\n",
      "Epoch 00015: loss improved from 1.93105 to 1.87827, saving model to C:/Users/hui/Desktop/AI/training_checkpoints_4/best-weights-on-15-with-1.8783.hdf5\n",
      "Epoch 16/30\n",
      "25862/25862 [==============================] - 172s 7ms/step - loss: 1.8305\n",
      "\n",
      "Epoch 00016: loss improved from 1.87827 to 1.83052, saving model to C:/Users/hui/Desktop/AI/training_checkpoints_4/best-weights-on-16-with-1.8305.hdf5\n",
      "Epoch 17/30\n",
      "25862/25862 [==============================] - 176s 7ms/step - loss: 1.7919\n",
      "\n",
      "Epoch 00017: loss improved from 1.83052 to 1.79189, saving model to C:/Users/hui/Desktop/AI/training_checkpoints_4/best-weights-on-17-with-1.7919.hdf5\n",
      "Epoch 18/30\n",
      "25862/25862 [==============================] - 183s 7ms/step - loss: 1.7336\n",
      "\n",
      "Epoch 00018: loss improved from 1.79189 to 1.73363, saving model to C:/Users/hui/Desktop/AI/training_checkpoints_4/best-weights-on-18-with-1.7336.hdf5\n",
      "Epoch 19/30\n",
      "25862/25862 [==============================] - 258s 10ms/step - loss: 1.6644\n",
      "\n",
      "Epoch 00019: loss improved from 1.73363 to 1.66441, saving model to C:/Users/hui/Desktop/AI/training_checkpoints_4/best-weights-on-19-with-1.6644.hdf5\n",
      "Epoch 20/30\n",
      "25862/25862 [==============================] - 199s 8ms/step - loss: 1.6415\n",
      "\n",
      "Epoch 00020: loss improved from 1.66441 to 1.64152, saving model to C:/Users/hui/Desktop/AI/training_checkpoints_4/best-weights-on-20-with-1.6415.hdf5\n",
      "Epoch 21/30\n",
      "25862/25862 [==============================] - 179s 7ms/step - loss: 1.5719\n",
      "\n",
      "Epoch 00021: loss improved from 1.64152 to 1.57191, saving model to C:/Users/hui/Desktop/AI/training_checkpoints_4/best-weights-on-21-with-1.5719.hdf5\n",
      "Epoch 22/30\n",
      "25862/25862 [==============================] - 182s 7ms/step - loss: 1.5216\n",
      "\n",
      "Epoch 00022: loss improved from 1.57191 to 1.52162, saving model to C:/Users/hui/Desktop/AI/training_checkpoints_4/best-weights-on-22-with-1.5216.hdf5\n",
      "Epoch 23/30\n",
      "25862/25862 [==============================] - 178s 7ms/step - loss: 1.4795\n",
      "\n",
      "Epoch 00023: loss improved from 1.52162 to 1.47950, saving model to C:/Users/hui/Desktop/AI/training_checkpoints_4/best-weights-on-23-with-1.4795.hdf5\n",
      "Epoch 24/30\n",
      "25862/25862 [==============================] - 174s 7ms/step - loss: 1.4192\n",
      "\n",
      "Epoch 00024: loss improved from 1.47950 to 1.41916, saving model to C:/Users/hui/Desktop/AI/training_checkpoints_4/best-weights-on-24-with-1.4192.hdf5\n",
      "Epoch 25/30\n",
      "25862/25862 [==============================] - 171s 7ms/step - loss: 1.3777\n",
      "\n",
      "Epoch 00025: loss improved from 1.41916 to 1.37770, saving model to C:/Users/hui/Desktop/AI/training_checkpoints_4/best-weights-on-25-with-1.3777.hdf5\n",
      "Epoch 26/30\n",
      "25862/25862 [==============================] - 173s 7ms/step - loss: 1.3061\n",
      "\n",
      "Epoch 00026: loss improved from 1.37770 to 1.30606, saving model to C:/Users/hui/Desktop/AI/training_checkpoints_4/best-weights-on-26-with-1.3061.hdf5\n",
      "Epoch 27/30\n",
      "25862/25862 [==============================] - 176s 7ms/step - loss: 1.2549\n",
      "\n",
      "Epoch 00027: loss improved from 1.30606 to 1.25488, saving model to C:/Users/hui/Desktop/AI/training_checkpoints_4/best-weights-on-27-with-1.2549.hdf5\n",
      "Epoch 28/30\n",
      "25862/25862 [==============================] - 183s 7ms/step - loss: 1.1622\n",
      "\n",
      "Epoch 00028: loss improved from 1.25488 to 1.16225, saving model to C:/Users/hui/Desktop/AI/training_checkpoints_4/best-weights-on-28-with-1.1622.hdf5\n",
      "Epoch 29/30\n",
      "25862/25862 [==============================] - 193s 7ms/step - loss: 1.1038\n",
      "\n",
      "Epoch 00029: loss improved from 1.16225 to 1.10375, saving model to C:/Users/hui/Desktop/AI/training_checkpoints_4/best-weights-on-29-with-1.1038.hdf5\n",
      "Epoch 30/30\n",
      "25862/25862 [==============================] - 174s 7ms/step - loss: 1.0547\n",
      "\n",
      "Epoch 00030: loss improved from 1.10375 to 1.05473, saving model to C:/Users/hui/Desktop/AI/training_checkpoints_4/best-weights-on-30-with-1.0547.hdf5\n"
     ]
    }
   ],
   "source": [
    "K.clear_session()\n",
    "option = options[2]\n",
    "\n",
    "model3 = building_model(vocab_size = vocab_size, batch_size = batch_size, maxlen = maxlen)\n",
    "\n",
    "model3.summary()\n",
    "model3.compile(loss='categorical_crossentropy', optimizer = 'adam')\n",
    "\n",
    "checkpoint_dir = 'C:/Users/hui/Desktop/AI/training_checkpoints_4/'\n",
    "filepath = \"C:/Users/hui/Desktop/AI/training_checkpoints_4/best-weights-on-{epoch:02d}-with-{loss:.4f}.hdf5\"\n",
    "\n",
    "checkpoint_callback = ModelCheckpoint(filepath, monitor = 'loss', verbose = 1, save_best_only = True, mode = 'min')\n",
    "\n",
    "hist3 = model3.fit(x, y,\n",
    "              batch_size = batch_size,\n",
    "              epochs = option['epochs'],\n",
    "              callbacks = [checkpoint_callback])\n"
   ]
  },
  {
   "cell_type": "code",
   "execution_count": 50,
   "metadata": {},
   "outputs": [],
   "source": [
    "model3.load_weights('/Users/hui/Desktop/AI/training_checkpoints_4/best-weights-on-30-with-1.0547.hdf5')"
   ]
  },
  {
   "cell_type": "code",
   "execution_count": 51,
   "metadata": {},
   "outputs": [
    {
     "name": "stdout",
     "output_type": "stream",
     "text": [
      "Model: \"sequential_1\"\n",
      "_________________________________________________________________\n",
      "Layer (type)                 Output Shape              Param #   \n",
      "=================================================================\n",
      "lstm_1 (LSTM)                (None, 40, 256)           323584    \n",
      "_________________________________________________________________\n",
      "dropout_1 (Dropout)          (None, 40, 256)           0         \n",
      "_________________________________________________________________\n",
      "lstm_2 (LSTM)                (None, 256)               525312    \n",
      "_________________________________________________________________\n",
      "dropout_2 (Dropout)          (None, 256)               0         \n",
      "_________________________________________________________________\n",
      "dense_1 (Dense)              (None, 59)                15163     \n",
      "_________________________________________________________________\n",
      "activation_1 (Activation)    (None, 59)                0         \n",
      "=================================================================\n",
      "Total params: 864,059\n",
      "Trainable params: 864,059\n",
      "Non-trainable params: 0\n",
      "_________________________________________________________________\n"
     ]
    }
   ],
   "source": [
    "model3.compile(loss = 'categorical_crossentropy', optimizer = 'adam')\n",
    "model3.summary()"
   ]
  },
  {
   "cell_type": "code",
   "execution_count": 52,
   "metadata": {},
   "outputs": [
    {
     "name": "stdout",
     "output_type": "stream",
     "text": [
      " еще отдавалось пенье скрипучего ворота,\n",
      " и вапил такум глотаки. и - понимался маленькимо принц.\n",
      " вот мни былу такогда так бы не кутку ну, она отбы радке то фвердцанед тводи никогта от, разны такее планетвыя. - это на будет я тучешь маленький принц. - на ответилия, ничебоя у немалобе\n",
      " - а ису уже поволясявся кого он истил...\n",
      " и после моголко, сладалка ответние\", и месте не пуслы мотроко этом пришесля будат сомжать имо, коточьо на могже только поверяет: сы простомут, од наможени и росит, - сказал я посям шисмо бы что можпоима\n",
      " и еде не ствем, так межный прислы я цветко естил был так на издание, человык сказал най отвыту. что знах вилоскаваять умеетерьенко пробутал ето стали гостах: ты вынянал езразты росость!\n",
      " и он потночал сторжевнем он скуза.\n",
      " мветь, сказал маленький принц весли на симые! сабовится нассказы: 1вадые все пускуху. он был, что больско могрыхо, а ты топьенно, это сыло желпую. и потубал все ухоме отимал когда..\n",
      " \u0014xii\u0015\n",
      "\n",
      " скажа на дешь, я точешколсто постартяя больше взролкот.\n",
      " - просто слошил бороком.\n",
      " - этот это жи говорим...\n",
      " - подумал маленький принц спросли не сертею этот росто так мне самого био посекравума твепе.\n",
      ".\n",
      " и ну хона хочет серед это же самореной полртому мог а как соброленнол у кая взрослые и резовитал може заводно я них он славал. твере, себя пустаня. тычиго бразустаяь тысчут лаз.. ты хотел, чтобы всо этой рию есень. и опланить ворох... схрисил маленькой денц.\n",
      " - все плакону поейвесте: я вись лы но чествеютка.\n",
      " - я все с насе веде иля мне ни остав тереейсе, вто ты исмиленься?\n",
      " - ничеободы \n",
      "None\n"
     ]
    }
   ],
   "source": [
    "start_index = random.randint(0, len(text) - maxlen - 1)\n",
    "print(generate_text(model3, start_string = text[start_index: start_index + maxlen], gen_length = gen_length))"
   ]
  },
  {
   "cell_type": "code",
   "execution_count": 53,
   "metadata": {},
   "outputs": [
    {
     "name": "stdout",
     "output_type": "stream",
     "text": [
      "Потери на данных\n",
      "loss: 0.781\n"
     ]
    }
   ],
   "source": [
    "test_acc = model3.evaluate(x, y, verbose = 2)\n",
    "print(\"Потери на данных\")\n",
    "print(\"%s: %.3f\" % (model3.metrics_names[0], test_acc)) # loss (потери)"
   ]
  },
  {
   "cell_type": "code",
   "execution_count": 54,
   "metadata": {},
   "outputs": [
    {
     "data": {
      "image/png": "[encoded data removed]",
      "text/plain": [
       "<Figure size 432x288 with 1 Axes>"
      ]
     },
     "metadata": {
      "needs_background": "light"
     },
     "output_type": "display_data"
    }
   ],
   "source": [
    "plt.plot(hist3.history['loss'])\n",
    "plt.title('Model loss')\n",
    "plt.ylabel('Loss')\n",
    "plt.xlabel('Epoch')\n",
    "plt.legend(['Train'], loc = 'upper left')\n",
    "plt.show()"
   ]
  },
  {
   "cell_type": "markdown",
   "metadata": {},
   "source": [
    "Вывод: обучение данной нейросети занимает много времени, поэтому вместо обычных 120 эпох, я поставила значение 30. Значение потерь = 0.781. Различие не такое значительное, но нейросеть обучилась несколько хуже."
   ]
  },
  {
   "cell_type": "markdown",
   "metadata": {},
   "source": [
    "Наконец посмотрим как работает GRU . Действия те же самые, изменятся лишь результаты, по которым я сделаю вывод."
   ]
  },
  {
   "cell_type": "code",
   "execution_count": 55,
   "metadata": {},
   "outputs": [
    {
     "name": "stdout",
     "output_type": "stream",
     "text": [
      "Model: \"sequential_1\"\n",
      "_________________________________________________________________\n",
      "Layer (type)                 Output Shape              Param #   \n",
      "=================================================================\n",
      "gru_1 (GRU)                  (None, 40, 256)           242688    \n",
      "_________________________________________________________________\n",
      "flatten_1 (Flatten)          (None, 10240)             0         \n",
      "_________________________________________________________________\n",
      "dropout_1 (Dropout)          (None, 10240)             0         \n",
      "_________________________________________________________________\n",
      "dense_1 (Dense)              (None, 59)                604219    \n",
      "_________________________________________________________________\n",
      "activation_1 (Activation)    (None, 59)                0         \n",
      "=================================================================\n",
      "Total params: 846,907\n",
      "Trainable params: 846,907\n",
      "Non-trainable params: 0\n",
      "_________________________________________________________________\n",
      "Epoch 1/25\n",
      "25862/25862 [==============================] - 74s 3ms/step - loss: 3.1669\n",
      "\n",
      "Epoch 00001: loss improved from inf to 3.16693, saving model to C:/Users/hui/Desktop/AI/training_checkpoints_5/best-weights-on-01-with-3.1669.hdf5\n",
      "Epoch 2/25\n",
      "25862/25862 [==============================] - 68s 3ms/step - loss: 2.6519\n",
      "\n",
      "Epoch 00002: loss improved from 3.16693 to 2.65191, saving model to C:/Users/hui/Desktop/AI/training_checkpoints_5/best-weights-on-02-with-2.6519.hdf5\n",
      "Epoch 3/25\n",
      "25862/25862 [==============================] - 69s 3ms/step - loss: 2.2485\n",
      "\n",
      "Epoch 00003: loss improved from 2.65191 to 2.24849, saving model to C:/Users/hui/Desktop/AI/training_checkpoints_5/best-weights-on-03-with-2.2485.hdf5\n",
      "Epoch 4/25\n",
      "25862/25862 [==============================] - 67s 3ms/step - loss: 2.0248\n",
      "\n",
      "Epoch 00004: loss improved from 2.24849 to 2.02475, saving model to C:/Users/hui/Desktop/AI/training_checkpoints_5/best-weights-on-04-with-2.0248.hdf5\n",
      "Epoch 5/25\n",
      "25862/25862 [==============================] - 66s 3ms/step - loss: 1.8853\n",
      "\n",
      "Epoch 00005: loss improved from 2.02475 to 1.88534, saving model to C:/Users/hui/Desktop/AI/training_checkpoints_5/best-weights-on-05-with-1.8853.hdf5\n",
      "Epoch 6/25\n",
      "25862/25862 [==============================] - 69s 3ms/step - loss: 1.7782\n",
      "\n",
      "Epoch 00006: loss improved from 1.88534 to 1.77822, saving model to C:/Users/hui/Desktop/AI/training_checkpoints_5/best-weights-on-06-with-1.7782.hdf5\n",
      "Epoch 7/25\n",
      "25862/25862 [==============================] - 69s 3ms/step - loss: 1.6889\n",
      "\n",
      "Epoch 00007: loss improved from 1.77822 to 1.68888, saving model to C:/Users/hui/Desktop/AI/training_checkpoints_5/best-weights-on-07-with-1.6889.hdf5\n",
      "Epoch 8/25\n",
      "25862/25862 [==============================] - 73s 3ms/step - loss: 1.6152\n",
      "\n",
      "Epoch 00008: loss improved from 1.68888 to 1.61519, saving model to C:/Users/hui/Desktop/AI/training_checkpoints_5/best-weights-on-08-with-1.6152.hdf5\n",
      "Epoch 9/25\n",
      "25862/25862 [==============================] - 69s 3ms/step - loss: 1.5491\n",
      "\n",
      "Epoch 00009: loss improved from 1.61519 to 1.54912, saving model to C:/Users/hui/Desktop/AI/training_checkpoints_5/best-weights-on-09-with-1.5491.hdf5\n",
      "Epoch 10/25\n",
      "25862/25862 [==============================] - 69s 3ms/step - loss: 1.4786\n",
      "\n",
      "Epoch 00010: loss improved from 1.54912 to 1.47860, saving model to C:/Users/hui/Desktop/AI/training_checkpoints_5/best-weights-on-10-with-1.4786.hdf5\n",
      "Epoch 11/25\n",
      "25862/25862 [==============================] - 68s 3ms/step - loss: 1.4084\n",
      "\n",
      "Epoch 00011: loss improved from 1.47860 to 1.40838, saving model to C:/Users/hui/Desktop/AI/training_checkpoints_5/best-weights-on-11-with-1.4084.hdf5\n",
      "Epoch 12/25\n",
      "25862/25862 [==============================] - ETA: 0s - loss: 1.363 - 68s 3ms/step - loss: 1.3631\n",
      "\n",
      "Epoch 00012: loss improved from 1.40838 to 1.36314, saving model to C:/Users/hui/Desktop/AI/training_checkpoints_5/best-weights-on-12-with-1.3631.hdf5\n",
      "Epoch 13/25\n",
      "25862/25862 [==============================] - 67s 3ms/step - loss: 1.3097\n",
      "\n",
      "Epoch 00013: loss improved from 1.36314 to 1.30971, saving model to C:/Users/hui/Desktop/AI/training_checkpoints_5/best-weights-on-13-with-1.3097.hdf5\n",
      "Epoch 14/25\n",
      "25862/25862 [==============================] - 67s 3ms/step - loss: 1.2416\n",
      "\n",
      "Epoch 00014: loss improved from 1.30971 to 1.24156, saving model to C:/Users/hui/Desktop/AI/training_checkpoints_5/best-weights-on-14-with-1.2416.hdf5\n",
      "Epoch 15/25\n",
      "25862/25862 [==============================] - 67s 3ms/step - loss: 1.1723\n",
      "\n",
      "Epoch 00015: loss improved from 1.24156 to 1.17233, saving model to C:/Users/hui/Desktop/AI/training_checkpoints_5/best-weights-on-15-with-1.1723.hdf5\n",
      "Epoch 16/25\n",
      "25862/25862 [==============================] - 66s 3ms/step - loss: 1.0993\n",
      "\n",
      "Epoch 00016: loss improved from 1.17233 to 1.09930, saving model to C:/Users/hui/Desktop/AI/training_checkpoints_5/best-weights-on-16-with-1.0993.hdf5\n",
      "Epoch 17/25\n",
      "25862/25862 [==============================] - 68s 3ms/step - loss: 1.0357\n",
      "\n",
      "Epoch 00017: loss improved from 1.09930 to 1.03571, saving model to C:/Users/hui/Desktop/AI/training_checkpoints_5/best-weights-on-17-with-1.0357.hdf5\n",
      "Epoch 18/25\n",
      "25862/25862 [==============================] - 66s 3ms/step - loss: 0.9722\n",
      "\n",
      "Epoch 00018: loss improved from 1.03571 to 0.97215, saving model to C:/Users/hui/Desktop/AI/training_checkpoints_5/best-weights-on-18-with-0.9722.hdf5\n",
      "Epoch 19/25\n",
      "25862/25862 [==============================] - 66s 3ms/step - loss: 0.9002\n",
      "\n",
      "Epoch 00019: loss improved from 0.97215 to 0.90017, saving model to C:/Users/hui/Desktop/AI/training_checkpoints_5/best-weights-on-19-with-0.9002.hdf5\n",
      "Epoch 20/25\n",
      "25862/25862 [==============================] - 67s 3ms/step - loss: 0.7993\n",
      "\n",
      "Epoch 00020: loss improved from 0.90017 to 0.79935, saving model to C:/Users/hui/Desktop/AI/training_checkpoints_5/best-weights-on-20-with-0.7993.hdf5\n",
      "Epoch 21/25\n",
      "25862/25862 [==============================] - 71s 3ms/step - loss: 0.7193\n",
      "\n",
      "Epoch 00021: loss improved from 0.79935 to 0.71929, saving model to C:/Users/hui/Desktop/AI/training_checkpoints_5/best-weights-on-21-with-0.7193.hdf5\n",
      "Epoch 22/25\n",
      "25862/25862 [==============================] - 68s 3ms/step - loss: 0.6605\n",
      "\n",
      "Epoch 00022: loss improved from 0.71929 to 0.66051, saving model to C:/Users/hui/Desktop/AI/training_checkpoints_5/best-weights-on-22-with-0.6605.hdf5\n",
      "Epoch 23/25\n",
      "25862/25862 [==============================] - 67s 3ms/step - loss: 0.6084\n",
      "\n",
      "Epoch 00023: loss improved from 0.66051 to 0.60836, saving model to C:/Users/hui/Desktop/AI/training_checkpoints_5/best-weights-on-23-with-0.6084.hdf5\n",
      "Epoch 24/25\n",
      "25862/25862 [==============================] - 67s 3ms/step - loss: 0.5091\n",
      "\n",
      "Epoch 00024: loss improved from 0.60836 to 0.50909, saving model to C:/Users/hui/Desktop/AI/training_checkpoints_5/best-weights-on-24-with-0.5091.hdf5\n",
      "Epoch 25/25\n",
      "25862/25862 [==============================] - 67s 3ms/step - loss: 0.4237\n",
      "\n",
      "Epoch 00025: loss improved from 0.50909 to 0.42367, saving model to C:/Users/hui/Desktop/AI/training_checkpoints_5/best-weights-on-25-with-0.4237.hdf5\n"
     ]
    }
   ],
   "source": [
    "K.clear_session()\n",
    "option = options[3]\n",
    "\n",
    "model4 = Sequential()\n",
    "model4.add(GRU(option['size'], input_shape = (maxlen, vocab_size), return_sequences = True))\n",
    "model4.add(Flatten())\n",
    "model4.add(Dropout(0.2))\n",
    "model4.add(Dense(vocab_size)) \n",
    "model4.add(Activation('softmax'))\n",
    "\n",
    "model4.summary()\n",
    "model4.compile(loss = 'categorical_crossentropy', optimizer = 'adam')\n",
    "\n",
    "checkpoint_dir = 'C:/Users/hui/Desktop/AI/training_checkpoints_5/'\n",
    "filepath = \"C:/Users/hui/Desktop/AI/training_checkpoints_5/best-weights-on-{epoch:02d}-with-{loss:.4f}.hdf5\"\n",
    "\n",
    "checkpoint_callback = ModelCheckpoint(filepath, monitor = 'loss', verbose = 1, save_best_only = True, mode = 'min')\n",
    "\n",
    "hist4 = model4.fit(x, y,\n",
    "              batch_size = batch_size,\n",
    "              epochs = option['epochs'],\n",
    "              callbacks = [checkpoint_callback])"
   ]
  },
  {
   "cell_type": "code",
   "execution_count": 56,
   "metadata": {},
   "outputs": [],
   "source": [
    "model4.load_weights('C:/Users/hui/Desktop/AI/training_checkpoints_5/best-weights-on-25-with-0.4237.hdf5')"
   ]
  },
  {
   "cell_type": "code",
   "execution_count": 57,
   "metadata": {},
   "outputs": [
    {
     "name": "stdout",
     "output_type": "stream",
     "text": [
      "Model: \"sequential_1\"\n",
      "_________________________________________________________________\n",
      "Layer (type)                 Output Shape              Param #   \n",
      "=================================================================\n",
      "gru_1 (GRU)                  (None, 40, 256)           242688    \n",
      "_________________________________________________________________\n",
      "flatten_1 (Flatten)          (None, 10240)             0         \n",
      "_________________________________________________________________\n",
      "dropout_1 (Dropout)          (None, 10240)             0         \n",
      "_________________________________________________________________\n",
      "dense_1 (Dense)              (None, 59)                604219    \n",
      "_________________________________________________________________\n",
      "activation_1 (Activation)    (None, 59)                0         \n",
      "=================================================================\n",
      "Total params: 846,907\n",
      "Trainable params: 846,907\n",
      "Non-trainable params: 0\n",
      "_________________________________________________________________\n"
     ]
    }
   ],
   "source": [
    "model4.compile(loss = 'categorical_crossentropy', optimizer = 'adam')\n",
    "model4.summary()"
   ]
  },
  {
   "cell_type": "code",
   "execution_count": 58,
   "metadata": {},
   "outputs": [
    {
     "name": "stdout",
     "output_type": "stream",
     "text": [
      "иказания.\n",
      " \"если я повелю своему генерал\n",
      " не ий потит я всенеедот митвое на и всром опил котолый пирь удит, - сказал маленький принц. - вод ребовет стул не спак..и посдизесли но интю еть. - вод овдлевеел да по плунитить но и знаел и оних путьтох, иконочен- зрпртошо верив. и загда,.... подаялси с оснему ниго брабетол у помол опкак.\n",
      " - значто, можни ды в нетемо озвавдетсл доманьа свераток п непет. маленький принц ниветве но од болот. тобы роб саревурисание вринама?\n",
      " - полаветь ветира. аве выем ез олобу нато, како пляленем пидотвнал всего веле быля кразаслов.и он два маленький принц. но все вотоби поденаедан, неськитоть од но измил...\n",
      " - и заход шеле. ни геду ноя, что ду ленние мволичать присловмо словно мелу в рускумелия, - скажилить ни он малыно.\n",
      " - асть нахордртвстко тврем я на ого долил не верковит бодот привеним споон приветитам не такее претеднел из на он. все пленелого вок расниу преволитые, что всем расмеет я  так если ов встришамило ня наченсенилого, потся дать смалечто. подрес ветом топощоелида, взвовму тапь,дчешя не илпооне, но дал\n",
      " маленьким принц. я мил он сприселит, - оконир с одмаретьки подровци и посяжнио свовитьрино вееди. нау меня превудела мни боться и. задовнивай сонему правелие на пыстепмноесят на мил порешика паственал, что маленький плинц.\n",
      ", вае, в петер, у маленикой. ался и твезровут...\n",
      " -  на терекне.\n",
      " - все мне был на подправслис, в то был ше, - ствмне присляв.\n",
      " - понизь, то,  звокмительсо продим приня.\n",
      " - они, зканет и скожда табемния полнолить ен пикуважи водробу.\n",
      " - прастулот я ни толеное. \n",
      "None\n"
     ]
    }
   ],
   "source": [
    "start_index = random.randint(0, len(text) - maxlen - 1)\n",
    "print(generate_text(model4, start_string = text[start_index: start_index + maxlen], gen_length = gen_length))"
   ]
  },
  {
   "cell_type": "code",
   "execution_count": 59,
   "metadata": {},
   "outputs": [
    {
     "name": "stdout",
     "output_type": "stream",
     "text": [
      "Потери на данных\n",
      "loss: 0.201\n"
     ]
    }
   ],
   "source": [
    "test_acc = model4.evaluate(x, y, verbose = 2)\n",
    "print(\"Потери на данных\")\n",
    "print(\"%s: %.3f\" % (model4.metrics_names[0], test_acc)) # loss (потери)"
   ]
  },
  {
   "cell_type": "code",
   "execution_count": 60,
   "metadata": {},
   "outputs": [
    {
     "data": {
      "image/png": "[encoded data removed]",
      "text/plain": [
       "<Figure size 432x288 with 1 Axes>"
      ]
     },
     "metadata": {
      "needs_background": "light"
     },
     "output_type": "display_data"
    }
   ],
   "source": [
    "plt.plot(hist4.history['loss'])\n",
    "plt.title('Model loss')\n",
    "plt.ylabel('Loss')\n",
    "plt.xlabel('Epoch')\n",
    "plt.legend(['Train'], loc = 'upper left')\n",
    "plt.show()"
   ]
  },
  {
   "cell_type": "markdown",
   "metadata": {},
   "source": [
    "Вывод: полученные результаты мне нравятся больше всего, так как значение потери равно 0.201 - это лучший полученный результат. Мне показалось, что пунктуация в тексте приобрела новый уровень. Количество русских слов увеличилось, но качество самого текста все же не на высоте, он все еще напоминает бессмысленный старославянский, но это связано с посимвольным предсказанием, если бы использовались целые слова, текст содержал бы в себе больше ценности."
   ]
  }
 ],
 "metadata": {
  "kernelspec": {
   "display_name": "Python 3",
   "language": "python",
   "name": "python3"
  },
  "language_info": {
   "codemirror_mode": {
    "name": "ipython",
    "version": 3
   },
   "file_extension": ".py",
   "mimetype": "text/x-python",
   "name": "python",
   "nbconvert_exporter": "python",
   "pygments_lexer": "ipython3",
   "version": "3.7.2"
  }
 },
 "nbformat": 4,
 "nbformat_minor": 4
}
